{
 "cells": [
  {
   "cell_type": "code",
   "execution_count": 1,
   "id": "c9d5f504",
   "metadata": {},
   "outputs": [],
   "source": [
    "#li = [10,20,10,30,80,30,10,40,55,60,80,90] write a program to find the highest frequency element\n",
    "# d = {10:3,20:1,30:2.....}"
   ]
  },
  {
   "cell_type": "code",
   "execution_count": 16,
   "id": "5cb58a29",
   "metadata": {},
   "outputs": [
    {
     "name": "stdout",
     "output_type": "stream",
     "text": [
      "Highest Frequency element in the given list is  10\n",
      "(10, 3)\n",
      "(20, 1)\n",
      "(30, 2)\n",
      "(80, 2)\n",
      "(40, 1)\n",
      "(55, 1)\n",
      "(60, 1)\n",
      "(90, 1)\n",
      "3\n",
      "[3, 1, 2, 2, 1, 1, 1, 1]\n",
      "{10: 3, 20: 1, 30: 2, 80: 2, 40: 1, 55: 1, 60: 1, 90: 1}\n"
     ]
    }
   ],
   "source": [
    "li = [10,20,10,30,80,30,10,40,55,60,80,90]\n",
    "d = {}\n",
    "for i in li:\n",
    "    if i not in d.keys():\n",
    "        d[i] = li.count(i)\n",
    "        \n",
    "dValues = []\n",
    "for dv in d.values():\n",
    "    dValues.append(dv)\n",
    "\n",
    "maxValue = max(dValues)\n",
    "\n",
    "for item in d.items():\n",
    "    if maxValue == item[1]:\n",
    "        print(\"Highest Frequency element in the given list is \",item[0])\n",
    "    print(item)\n",
    "    \n",
    "\n",
    "print(maxValue)\n",
    "print(dValues)\n",
    "print(d)\n",
    "        "
   ]
  },
  {
   "cell_type": "markdown",
   "id": "19ed0c77",
   "metadata": {},
   "source": [
    "### Sets"
   ]
  },
  {
   "cell_type": "code",
   "execution_count": 17,
   "id": "7c5efbc2",
   "metadata": {},
   "outputs": [],
   "source": [
    "#set is a collection of hetrogenious data\n",
    "# set is unordered and unindexed\n",
    "#syntax of sets : s = {}\n",
    "#If you want to create a empty set there is method called set()\n",
    "#It doesn't allows the duplicates\n",
    "#we can't update the data in sets,but we can add new value10,20,True,\"python\",55.12,10}"
   ]
  },
  {
   "cell_type": "code",
   "execution_count": 18,
   "id": "e7ffd9b3",
   "metadata": {},
   "outputs": [
    {
     "data": {
      "text/plain": [
       "{10, 20, 55.12, True, 'python'}"
      ]
     },
     "execution_count": 18,
     "metadata": {},
     "output_type": "execute_result"
    }
   ],
   "source": [
    "s = {10,20,True,\"python\",55.12,10}\n",
    "s"
   ]
  },
  {
   "cell_type": "code",
   "execution_count": 20,
   "id": "4d14adea",
   "metadata": {},
   "outputs": [
    {
     "data": {
      "text/plain": [
       "set"
      ]
     },
     "execution_count": 20,
     "metadata": {},
     "output_type": "execute_result"
    }
   ],
   "source": [
    "type(s)"
   ]
  },
  {
   "cell_type": "code",
   "execution_count": 21,
   "id": "a14a2081",
   "metadata": {},
   "outputs": [
    {
     "data": {
      "text/plain": [
       "5"
      ]
     },
     "execution_count": 21,
     "metadata": {},
     "output_type": "execute_result"
    }
   ],
   "source": [
    "len(s)"
   ]
  },
  {
   "cell_type": "code",
   "execution_count": 23,
   "id": "96f85ce7",
   "metadata": {},
   "outputs": [
    {
     "ename": "TypeError",
     "evalue": "'set' object is not subscriptable",
     "output_type": "error",
     "traceback": [
      "\u001b[1;31m---------------------------------------------------------------------------\u001b[0m",
      "\u001b[1;31mTypeError\u001b[0m                                 Traceback (most recent call last)",
      "Cell \u001b[1;32mIn[23], line 1\u001b[0m\n\u001b[1;32m----> 1\u001b[0m s[\u001b[38;5;241m0\u001b[39m]\n",
      "\u001b[1;31mTypeError\u001b[0m: 'set' object is not subscriptable"
     ]
    }
   ],
   "source": [
    "s[0]"
   ]
  },
  {
   "cell_type": "code",
   "execution_count": 24,
   "id": "277b6268",
   "metadata": {},
   "outputs": [
    {
     "data": {
      "text/plain": [
       "['__and__',\n",
       " '__class__',\n",
       " '__class_getitem__',\n",
       " '__contains__',\n",
       " '__delattr__',\n",
       " '__dir__',\n",
       " '__doc__',\n",
       " '__eq__',\n",
       " '__format__',\n",
       " '__ge__',\n",
       " '__getattribute__',\n",
       " '__getstate__',\n",
       " '__gt__',\n",
       " '__hash__',\n",
       " '__iand__',\n",
       " '__init__',\n",
       " '__init_subclass__',\n",
       " '__ior__',\n",
       " '__isub__',\n",
       " '__iter__',\n",
       " '__ixor__',\n",
       " '__le__',\n",
       " '__len__',\n",
       " '__lt__',\n",
       " '__ne__',\n",
       " '__new__',\n",
       " '__or__',\n",
       " '__rand__',\n",
       " '__reduce__',\n",
       " '__reduce_ex__',\n",
       " '__repr__',\n",
       " '__ror__',\n",
       " '__rsub__',\n",
       " '__rxor__',\n",
       " '__setattr__',\n",
       " '__sizeof__',\n",
       " '__str__',\n",
       " '__sub__',\n",
       " '__subclasshook__',\n",
       " '__xor__',\n",
       " 'add',\n",
       " 'clear',\n",
       " 'copy',\n",
       " 'difference',\n",
       " 'difference_update',\n",
       " 'discard',\n",
       " 'intersection',\n",
       " 'intersection_update',\n",
       " 'isdisjoint',\n",
       " 'issubset',\n",
       " 'issuperset',\n",
       " 'pop',\n",
       " 'remove',\n",
       " 'symmetric_difference',\n",
       " 'symmetric_difference_update',\n",
       " 'union',\n",
       " 'update']"
      ]
     },
     "execution_count": 24,
     "metadata": {},
     "output_type": "execute_result"
    }
   ],
   "source": [
    "dir(s)"
   ]
  },
  {
   "cell_type": "code",
   "execution_count": null,
   "id": "687c20b5",
   "metadata": {},
   "outputs": [],
   "source": []
  }
 ],
 "metadata": {
  "kernelspec": {
   "display_name": "Python 3 (ipykernel)",
   "language": "python",
   "name": "python3"
  },
  "language_info": {
   "codemirror_mode": {
    "name": "ipython",
    "version": 3
   },
   "file_extension": ".py",
   "mimetype": "text/x-python",
   "name": "python",
   "nbconvert_exporter": "python",
   "pygments_lexer": "ipython3",
   "version": "3.11.4"
  }
 },
 "nbformat": 4,
 "nbformat_minor": 5
}
