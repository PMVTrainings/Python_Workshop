{
 "cells": [
  {
   "cell_type": "markdown",
   "id": "d3add2b3",
   "metadata": {},
   "source": [
    "### Conditional Statements\n",
    "- if\n",
    "- if - else\n",
    "- nested if \n",
    "- elif"
   ]
  },
  {
   "cell_type": "code",
   "execution_count": 1,
   "id": "0efdf1d0",
   "metadata": {},
   "outputs": [
    {
     "name": "stdout",
     "output_type": "stream",
     "text": [
      "u are eligible for VOTE\n"
     ]
    }
   ],
   "source": [
    "#if\n",
    "#Synatx : if  condition:\n",
    "#Write a program to check age of voter eligibility\n",
    "#Viter eligibility age = 18+\n",
    "age = 25\n",
    "if age>=18:\n",
    "    print(\"u are eligible for VOTE\")\n",
    "\n"
   ]
  },
  {
   "cell_type": "code",
   "execution_count": 3,
   "id": "ebdff0e5",
   "metadata": {},
   "outputs": [
    {
     "name": "stdout",
     "output_type": "stream",
     "text": [
      "-54\n",
      "the given number is negative\n"
     ]
    }
   ],
   "source": [
    "#if - else\n",
    "#Syntax: if condition:\n",
    "#               print()\n",
    "#        else:\n",
    "#               print()\n",
    "#\n",
    "#To convert string value to integre there is method called int()\n",
    "#write a program to check the given number is positive or negative\n",
    "num = int(input())\n",
    "if num>0:\n",
    "    print(\"The given number is positive\")\n",
    "else:\n",
    "    print(\"the given number is negative\")"
   ]
  },
  {
   "cell_type": "code",
   "execution_count": 6,
   "id": "9a2070b2",
   "metadata": {},
   "outputs": [
    {
     "name": "stdout",
     "output_type": "stream",
     "text": [
      "4\n",
      "4  is even\n"
     ]
    }
   ],
   "source": [
    "#nested if\n",
    "#syntax : if condition:\n",
    "#                if condition:\n",
    "#                       print()\n",
    "#                else:\n",
    "#                      print()\n",
    "#        else:\n",
    "#            print()\n",
    "#write a program to check the given number is even or odd\n",
    "\n",
    "num = int(input())\n",
    "if num>0:\n",
    "    if num%2 == 0:\n",
    "        print(num,\" is even\")\n",
    "    else:\n",
    "        print(num,\" is odd\")\n",
    "else:\n",
    "    print(num,\" is negative\")\n"
   ]
  },
  {
   "cell_type": "code",
   "execution_count": 18,
   "id": "674daaea",
   "metadata": {},
   "outputs": [
    {
     "name": "stdout",
     "output_type": "stream",
     "text": [
      "2\n",
      "Monday\n"
     ]
    }
   ],
   "source": [
    "#elif\n",
    "#syntax : if condition:\n",
    "#         elif condition:\n",
    "#         elif condition:\n",
    "#         --------------\n",
    "#         --------------\n",
    "#         else: \n",
    "#            print()\n",
    "\n",
    "#Write a python program to print 7 week days\n",
    "#1==> Sunday  2 ==> Monday 7 ==> saturday\n",
    "wNum = int(input())\n",
    "if wNum > 0:\n",
    "    if wNum == 1:\n",
    "        print(\"Sunday\")\n",
    "    elif wNum == 2:\n",
    "        print(\"Monday\")\n",
    "    elif wNum == 3:\n",
    "        print(\"TuesDay\")\n",
    "    else:\n",
    "        print(\"out of range\")\n",
    "else:\n",
    "    print(\"the given number is negative\")\n",
    "    "
   ]
  },
  {
   "cell_type": "code",
   "execution_count": null,
   "id": "4dcc5f05",
   "metadata": {},
   "outputs": [],
   "source": [
    "#Write a python program to check the given year is leap year or not\n",
    "#If the year is leap year print year, is leap year\n",
    "#If the given number is not a leap year  print year, is not a leap year"
   ]
  }
 ],
 "metadata": {
  "kernelspec": {
   "display_name": "Python 3 (ipykernel)",
   "language": "python",
   "name": "python3"
  },
  "language_info": {
   "codemirror_mode": {
    "name": "ipython",
    "version": 3
   },
   "file_extension": ".py",
   "mimetype": "text/x-python",
   "name": "python",
   "nbconvert_exporter": "python",
   "pygments_lexer": "ipython3",
   "version": "3.11.4"
  }
 },
 "nbformat": 4,
 "nbformat_minor": 5
}
