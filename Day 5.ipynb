{
 "cells": [
  {
   "cell_type": "markdown",
   "id": "9873f7ee",
   "metadata": {},
   "source": [
    "### Loops\n",
    "- for loop\n",
    "- while loop\n",
    "- In Python, there is no construct defined for do while loop."
   ]
  },
  {
   "cell_type": "code",
   "execution_count": 1,
   "id": "91761613",
   "metadata": {},
   "outputs": [
    {
     "data": {
      "text/plain": [
       "range(0, 10)"
      ]
     },
     "execution_count": 1,
     "metadata": {},
     "output_type": "execute_result"
    }
   ],
   "source": [
    "#range()\n",
    "#range function will accept the three parameters\n",
    "#1.lower bound 2.upper bound 3.step parameter\n",
    "range(10)"
   ]
  },
  {
   "cell_type": "code",
   "execution_count": 2,
   "id": "b27d8e55",
   "metadata": {},
   "outputs": [
    {
     "name": "stdout",
     "output_type": "stream",
     "text": [
      "range(0, 10)\n"
     ]
    }
   ],
   "source": [
    "print(range(10))"
   ]
  },
  {
   "cell_type": "code",
   "execution_count": 7,
   "id": "760bbe2d",
   "metadata": {},
   "outputs": [
    {
     "name": "stdout",
     "output_type": "stream",
     "text": [
      "0 1 2 3 4 5 6 7 8 9 "
     ]
    }
   ],
   "source": [
    "#for loop syntax:\n",
    "#for variable in range(lowerbound,upperbound,stepparameter):\n",
    "#                              logical statements\n",
    "#lowerbound --> Inclusive , Upperbound  --> Exculsive\n",
    "for i in range(10):\n",
    "    print(i,end=\" \")"
   ]
  },
  {
   "cell_type": "code",
   "execution_count": 6,
   "id": "f0edc42d",
   "metadata": {},
   "outputs": [
    {
     "name": "stdout",
     "output_type": "stream",
     "text": [
      "10 11 12 13 14 "
     ]
    }
   ],
   "source": [
    "for i in range(10,15):\n",
    "    print(i,end=\" \")"
   ]
  },
  {
   "cell_type": "code",
   "execution_count": 14,
   "id": "d691d338",
   "metadata": {},
   "outputs": [
    {
     "name": "stdout",
     "output_type": "stream",
     "text": [
      "1 3 5 7 9 11 13 15 17 19 "
     ]
    }
   ],
   "source": [
    "for i in range(1,20,2):\n",
    "    print(i,end=\" \")"
   ]
  },
  {
   "cell_type": "code",
   "execution_count": 16,
   "id": "8afc0aff",
   "metadata": {},
   "outputs": [
    {
     "name": "stdout",
     "output_type": "stream",
     "text": [
      "Enter n value : 5\n",
      "1 2 3 4 "
     ]
    }
   ],
   "source": [
    "#Write a python program to print 1 to n natural numbers in ascending order\n",
    "n = int(input(\"Enter n value : \"))\n",
    "for i in range(1,n):\n",
    "    print(i,end = \" \")"
   ]
  },
  {
   "cell_type": "code",
   "execution_count": 23,
   "id": "9e41cb45",
   "metadata": {},
   "outputs": [
    {
     "name": "stdout",
     "output_type": "stream",
     "text": [
      "Enter n value : 5\n",
      "5 3 1 "
     ]
    }
   ],
   "source": [
    "#descending order\n",
    "n = int(input(\"Enter n value : \"))\n",
    "for i in range(n,0,-2):\n",
    "    print(i,end = \" \")"
   ]
  },
  {
   "cell_type": "code",
   "execution_count": 24,
   "id": "12b89d80",
   "metadata": {},
   "outputs": [],
   "source": [
    "#Tasks\n",
    "#1.write a python to print sum of 1 to n natural numbers.\n",
    "#2.\"\"  To print factors of a given number"
   ]
  },
  {
   "cell_type": "code",
   "execution_count": 27,
   "id": "62a51884",
   "metadata": {},
   "outputs": [
    {
     "name": "stdout",
     "output_type": "stream",
     "text": [
      "N value : 5\n",
      "Numbers List:  1\n",
      "Numbers List:  2\n",
      "Numbers List:  3\n",
      "Numbers List:  4\n",
      "Numbers List:  5\n",
      "15\n"
     ]
    }
   ],
   "source": [
    "#1.write a python to print sum of 1 to n(inclusive) natural numbers.\n",
    "n = int(input(\"N value : \"))\n",
    "s = 0\n",
    "for i in range(1,n+1):\n",
    "    s = s + i\n",
    "    print(\"Numbers List: \",i)\n",
    "print(s)\n",
    "    "
   ]
  },
  {
   "cell_type": "code",
   "execution_count": 30,
   "id": "f568b628",
   "metadata": {},
   "outputs": [
    {
     "name": "stdout",
     "output_type": "stream",
     "text": [
      "Enter n Value: 10\n",
      "1\n",
      "2\n",
      "5\n",
      "10\n"
     ]
    }
   ],
   "source": [
    "#2.Write a python program To print factors of a given number\n",
    "n = int(input(\"Enter n Value: \"))\n",
    "for i in range(1,n+1):\n",
    "    if n%i == 0:\n",
    "        print(i)"
   ]
  },
  {
   "cell_type": "code",
   "execution_count": 31,
   "id": "132469b7",
   "metadata": {},
   "outputs": [],
   "source": [
    "#Write a python program to print sum of even numbers and odd numbers of given range lb,ub both are inclusive.\n",
    "# e o/p : sum of even numbers : x\n",
    "#         sum of odd numbers : y\n",
    "\n",
    "#write a python program to count even numbers in the given range. lb- inclusive, ub-exclusive\n",
    "#Ex:123456789 --> o/p Even numbers count = 4"
   ]
  },
  {
   "cell_type": "code",
   "execution_count": 35,
   "id": "1c522bd4",
   "metadata": {},
   "outputs": [
    {
     "name": "stdout",
     "output_type": "stream",
     "text": [
      "Enter N value5\n",
      "0 1 2 3 4 5 15\n"
     ]
    }
   ],
   "source": [
    "#n natural numbers\n",
    "n = int(input(\"Enter N value\"))\n",
    "s = 0\n",
    "for i in range(n+1):\n",
    "    print(i,end = \" \")\n",
    "    s = s + i\n",
    "print(s)"
   ]
  },
  {
   "cell_type": "code",
   "execution_count": null,
   "id": "a73b2e45",
   "metadata": {},
   "outputs": [],
   "source": []
  }
 ],
 "metadata": {
  "kernelspec": {
   "display_name": "Python 3 (ipykernel)",
   "language": "python",
   "name": "python3"
  },
  "language_info": {
   "codemirror_mode": {
    "name": "ipython",
    "version": 3
   },
   "file_extension": ".py",
   "mimetype": "text/x-python",
   "name": "python",
   "nbconvert_exporter": "python",
   "pygments_lexer": "ipython3",
   "version": "3.11.4"
  }
 },
 "nbformat": 4,
 "nbformat_minor": 5
}
