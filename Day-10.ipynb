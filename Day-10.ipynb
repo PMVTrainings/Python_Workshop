{
 "cells": [
  {
   "cell_type": "markdown",
   "id": "5a9c16b4",
   "metadata": {},
   "source": [
    "### Collections in python\n",
    "- Lists\n",
    "- tuple \n",
    "- dictionary\n",
    "- set"
   ]
  },
  {
   "cell_type": "code",
   "execution_count": 1,
   "id": "43db816c",
   "metadata": {},
   "outputs": [
    {
     "data": {
      "text/plain": [
       "[20, 'python', 65.24, True]"
      ]
     },
     "execution_count": 1,
     "metadata": {},
     "output_type": "execute_result"
    }
   ],
   "source": [
    "#List\n",
    "#collection of hetrogenious data\n",
    "#List items ordered ,changable,and allow duplicate values\n",
    "#Syntax list: variblename = [element1,element2,element3.....]\n",
    "li = [20,\"python\",65.24,True]\n",
    "li"
   ]
  },
  {
   "cell_type": "code",
   "execution_count": 2,
   "id": "101bef31",
   "metadata": {},
   "outputs": [
    {
     "data": {
      "text/plain": [
       "list"
      ]
     },
     "execution_count": 2,
     "metadata": {},
     "output_type": "execute_result"
    }
   ],
   "source": [
    "type(li)"
   ]
  },
  {
   "cell_type": "code",
   "execution_count": 3,
   "id": "3671459f",
   "metadata": {},
   "outputs": [
    {
     "data": {
      "text/plain": [
       "4"
      ]
     },
     "execution_count": 3,
     "metadata": {},
     "output_type": "execute_result"
    }
   ],
   "source": [
    "#If you want to know the length of the list we can use len() method\n",
    "len(li)"
   ]
  },
  {
   "cell_type": "code",
   "execution_count": 8,
   "id": "ac4a358d",
   "metadata": {},
   "outputs": [
    {
     "data": {
      "text/plain": [
       "[True, 65.24, 'python', 20]"
      ]
     },
     "execution_count": 8,
     "metadata": {},
     "output_type": "execute_result"
    }
   ],
   "source": [
    "#If i want to access the elements from the list we have a two ways to access\n",
    "#                 1.By using positive indexing\n",
    "#                 2.By using negative indexing\n",
    "#1.By using positive indexing\n",
    "li[0]\n",
    "li[1]\n",
    "#2.By using negative indexing\n",
    "li[-1]\n",
    "li[::2]\n",
    "li[::-1]"
   ]
  },
  {
   "cell_type": "code",
   "execution_count": 9,
   "id": "7b7afe81",
   "metadata": {},
   "outputs": [
    {
     "data": {
      "text/plain": [
       "['__add__',\n",
       " '__class__',\n",
       " '__class_getitem__',\n",
       " '__contains__',\n",
       " '__delattr__',\n",
       " '__delitem__',\n",
       " '__dir__',\n",
       " '__doc__',\n",
       " '__eq__',\n",
       " '__format__',\n",
       " '__ge__',\n",
       " '__getattribute__',\n",
       " '__getitem__',\n",
       " '__getstate__',\n",
       " '__gt__',\n",
       " '__hash__',\n",
       " '__iadd__',\n",
       " '__imul__',\n",
       " '__init__',\n",
       " '__init_subclass__',\n",
       " '__iter__',\n",
       " '__le__',\n",
       " '__len__',\n",
       " '__lt__',\n",
       " '__mul__',\n",
       " '__ne__',\n",
       " '__new__',\n",
       " '__reduce__',\n",
       " '__reduce_ex__',\n",
       " '__repr__',\n",
       " '__reversed__',\n",
       " '__rmul__',\n",
       " '__setattr__',\n",
       " '__setitem__',\n",
       " '__sizeof__',\n",
       " '__str__',\n",
       " '__subclasshook__',\n",
       " 'append',\n",
       " 'clear',\n",
       " 'copy',\n",
       " 'count',\n",
       " 'extend',\n",
       " 'index',\n",
       " 'insert',\n",
       " 'pop',\n",
       " 'remove',\n",
       " 'reverse',\n",
       " 'sort']"
      ]
     },
     "execution_count": 9,
     "metadata": {},
     "output_type": "execute_result"
    }
   ],
   "source": [
    "dir(li)"
   ]
  },
  {
   "cell_type": "code",
   "execution_count": 10,
   "id": "ef0df3d5",
   "metadata": {},
   "outputs": [],
   "source": [
    "li = [10,20,30,40,50,80,45]\n",
    "li.append(100)#it will append the value to existing list"
   ]
  },
  {
   "cell_type": "code",
   "execution_count": 11,
   "id": "f5042799",
   "metadata": {},
   "outputs": [
    {
     "data": {
      "text/plain": [
       "[10, 20, 30, 40, 50, 80, 45, 100]"
      ]
     },
     "execution_count": 11,
     "metadata": {},
     "output_type": "execute_result"
    }
   ],
   "source": [
    "li"
   ]
  },
  {
   "cell_type": "code",
   "execution_count": 12,
   "id": "dbaa357e",
   "metadata": {},
   "outputs": [],
   "source": [
    "copyofLi = li.copy()"
   ]
  },
  {
   "cell_type": "code",
   "execution_count": 13,
   "id": "bc3e04c0",
   "metadata": {},
   "outputs": [
    {
     "data": {
      "text/plain": [
       "[10, 20, 30, 40, 50, 80, 45, 100]"
      ]
     },
     "execution_count": 13,
     "metadata": {},
     "output_type": "execute_result"
    }
   ],
   "source": [
    "copyofLi"
   ]
  },
  {
   "cell_type": "code",
   "execution_count": 14,
   "id": "723a9d5f",
   "metadata": {},
   "outputs": [
    {
     "data": {
      "text/plain": [
       "[10, 20, 30, 40, 50, 80, 45, 100]"
      ]
     },
     "execution_count": 14,
     "metadata": {},
     "output_type": "execute_result"
    }
   ],
   "source": [
    "li"
   ]
  },
  {
   "cell_type": "code",
   "execution_count": 15,
   "id": "52763301",
   "metadata": {},
   "outputs": [],
   "source": [
    "copyofLi.clear()#will clear the list and gives empty list"
   ]
  },
  {
   "cell_type": "code",
   "execution_count": 16,
   "id": "2ab5096b",
   "metadata": {},
   "outputs": [
    {
     "data": {
      "text/plain": [
       "[]"
      ]
     },
     "execution_count": 16,
     "metadata": {},
     "output_type": "execute_result"
    }
   ],
   "source": [
    "copyofLi"
   ]
  },
  {
   "cell_type": "code",
   "execution_count": 17,
   "id": "85881ccd",
   "metadata": {},
   "outputs": [
    {
     "data": {
      "text/plain": [
       "[10, 20, 30, 40, 50, 80, 45, 100]"
      ]
     },
     "execution_count": 17,
     "metadata": {},
     "output_type": "execute_result"
    }
   ],
   "source": [
    "li"
   ]
  },
  {
   "cell_type": "code",
   "execution_count": 18,
   "id": "f2b7dedd",
   "metadata": {},
   "outputs": [
    {
     "data": {
      "text/plain": [
       "1"
      ]
     },
     "execution_count": 18,
     "metadata": {},
     "output_type": "execute_result"
    }
   ],
   "source": [
    "li.count(20)"
   ]
  },
  {
   "cell_type": "code",
   "execution_count": 19,
   "id": "eb2b93cf",
   "metadata": {},
   "outputs": [],
   "source": [
    "li.append(20)"
   ]
  },
  {
   "cell_type": "code",
   "execution_count": 20,
   "id": "0462a32f",
   "metadata": {},
   "outputs": [
    {
     "data": {
      "text/plain": [
       "[10, 20, 30, 40, 50, 80, 45, 100, 20]"
      ]
     },
     "execution_count": 20,
     "metadata": {},
     "output_type": "execute_result"
    }
   ],
   "source": [
    "li"
   ]
  },
  {
   "cell_type": "code",
   "execution_count": 21,
   "id": "1ddaa80d",
   "metadata": {},
   "outputs": [
    {
     "data": {
      "text/plain": [
       "2"
      ]
     },
     "execution_count": 21,
     "metadata": {},
     "output_type": "execute_result"
    }
   ],
   "source": [
    "li.count(20)"
   ]
  },
  {
   "cell_type": "code",
   "execution_count": 22,
   "id": "e5ef4456",
   "metadata": {},
   "outputs": [
    {
     "data": {
      "text/plain": [
       "[10, 20, 30, 40, 50, 80, 45, 100, 20]"
      ]
     },
     "execution_count": 22,
     "metadata": {},
     "output_type": "execute_result"
    }
   ],
   "source": [
    "li"
   ]
  },
  {
   "cell_type": "code",
   "execution_count": 23,
   "id": "ffb4568d",
   "metadata": {},
   "outputs": [],
   "source": [
    "li.extend([\"python\",\"mastan\",\"sathwik\",\"lokesh\"])"
   ]
  },
  {
   "cell_type": "code",
   "execution_count": 24,
   "id": "95f03152",
   "metadata": {},
   "outputs": [
    {
     "data": {
      "text/plain": [
       "[10, 20, 30, 40, 50, 80, 45, 100, 20, 'python', 'mastan', 'sathwik', 'lokesh']"
      ]
     },
     "execution_count": 24,
     "metadata": {},
     "output_type": "execute_result"
    }
   ],
   "source": [
    "li"
   ]
  },
  {
   "cell_type": "code",
   "execution_count": 25,
   "id": "d7ae1ede",
   "metadata": {},
   "outputs": [
    {
     "data": {
      "text/plain": [
       "9"
      ]
     },
     "execution_count": 25,
     "metadata": {},
     "output_type": "execute_result"
    }
   ],
   "source": [
    "li.index('python')"
   ]
  },
  {
   "cell_type": "code",
   "execution_count": 27,
   "id": "94918fd1",
   "metadata": {},
   "outputs": [],
   "source": [
    "li.insert(9,\"Pwan kalyan\")"
   ]
  },
  {
   "cell_type": "code",
   "execution_count": 28,
   "id": "69af2606",
   "metadata": {},
   "outputs": [
    {
     "data": {
      "text/plain": [
       "[10,\n",
       " 20,\n",
       " 30,\n",
       " 40,\n",
       " 50,\n",
       " 80,\n",
       " 45,\n",
       " 100,\n",
       " 20,\n",
       " 'Pwan kalyan',\n",
       " 'python',\n",
       " 'mastan',\n",
       " 'sathwik',\n",
       " 'lokesh']"
      ]
     },
     "execution_count": 28,
     "metadata": {},
     "output_type": "execute_result"
    }
   ],
   "source": [
    "li"
   ]
  },
  {
   "cell_type": "code",
   "execution_count": 29,
   "id": "1666269b",
   "metadata": {},
   "outputs": [
    {
     "data": {
      "text/plain": [
       "'lokesh'"
      ]
     },
     "execution_count": 29,
     "metadata": {},
     "output_type": "execute_result"
    }
   ],
   "source": [
    "li.pop()#It will remove the end of the element from the list"
   ]
  },
  {
   "cell_type": "code",
   "execution_count": 30,
   "id": "f508e942",
   "metadata": {},
   "outputs": [
    {
     "data": {
      "text/plain": [
       "[10,\n",
       " 20,\n",
       " 30,\n",
       " 40,\n",
       " 50,\n",
       " 80,\n",
       " 45,\n",
       " 100,\n",
       " 20,\n",
       " 'Pwan kalyan',\n",
       " 'python',\n",
       " 'mastan',\n",
       " 'sathwik']"
      ]
     },
     "execution_count": 30,
     "metadata": {},
     "output_type": "execute_result"
    }
   ],
   "source": [
    "li"
   ]
  },
  {
   "cell_type": "code",
   "execution_count": 34,
   "id": "8fd9df46",
   "metadata": {},
   "outputs": [],
   "source": [
    "li.remove('Pwan kalyan')#It will remove pariticular element from the list"
   ]
  },
  {
   "cell_type": "code",
   "execution_count": 35,
   "id": "23463542",
   "metadata": {},
   "outputs": [
    {
     "data": {
      "text/plain": [
       "[10, 20, 30, 40, 50, 80, 45, 100, 20, 'python', 'mastan', 'sathwik']"
      ]
     },
     "execution_count": 35,
     "metadata": {},
     "output_type": "execute_result"
    }
   ],
   "source": [
    "li"
   ]
  },
  {
   "cell_type": "code",
   "execution_count": 36,
   "id": "24776ca2",
   "metadata": {},
   "outputs": [],
   "source": [
    "li.reverse()"
   ]
  },
  {
   "cell_type": "code",
   "execution_count": 37,
   "id": "eddaa643",
   "metadata": {},
   "outputs": [
    {
     "data": {
      "text/plain": [
       "['sathwik', 'mastan', 'python', 20, 100, 45, 80, 50, 40, 30, 20, 10]"
      ]
     },
     "execution_count": 37,
     "metadata": {},
     "output_type": "execute_result"
    }
   ],
   "source": [
    "li"
   ]
  },
  {
   "cell_type": "code",
   "execution_count": 38,
   "id": "cb90a6ce",
   "metadata": {},
   "outputs": [
    {
     "ename": "TypeError",
     "evalue": "'<' not supported between instances of 'int' and 'str'",
     "output_type": "error",
     "traceback": [
      "\u001b[1;31m---------------------------------------------------------------------------\u001b[0m",
      "\u001b[1;31mTypeError\u001b[0m                                 Traceback (most recent call last)",
      "Cell \u001b[1;32mIn[38], line 1\u001b[0m\n\u001b[1;32m----> 1\u001b[0m li\u001b[38;5;241m.\u001b[39msort()\n",
      "\u001b[1;31mTypeError\u001b[0m: '<' not supported between instances of 'int' and 'str'"
     ]
    }
   ],
   "source": [
    "li.sort()"
   ]
  },
  {
   "cell_type": "code",
   "execution_count": 39,
   "id": "614f5046",
   "metadata": {},
   "outputs": [],
   "source": [
    "intList = [40,2,8,55,70,15]\n",
    "intList.sort()"
   ]
  },
  {
   "cell_type": "code",
   "execution_count": 40,
   "id": "90974732",
   "metadata": {},
   "outputs": [
    {
     "data": {
      "text/plain": [
       "[2, 8, 15, 40, 55, 70]"
      ]
     },
     "execution_count": 40,
     "metadata": {},
     "output_type": "execute_result"
    }
   ],
   "source": [
    "intList"
   ]
  },
  {
   "cell_type": "code",
   "execution_count": 41,
   "id": "351b1953",
   "metadata": {},
   "outputs": [],
   "source": [
    "strList = [\"python\",\"mastan\",\"pawan kalyan\",\"balayya\"]\n",
    "strList.sort()"
   ]
  },
  {
   "cell_type": "code",
   "execution_count": 42,
   "id": "fdbd7509",
   "metadata": {},
   "outputs": [
    {
     "data": {
      "text/plain": [
       "['balayya', 'mastan', 'pawan kalyan', 'python']"
      ]
     },
     "execution_count": 42,
     "metadata": {},
     "output_type": "execute_result"
    }
   ],
   "source": [
    "strList"
   ]
  },
  {
   "cell_type": "code",
   "execution_count": 43,
   "id": "8896d570",
   "metadata": {},
   "outputs": [
    {
     "data": {
      "text/plain": [
       "[2, 8, 15, 40, 55, 70]"
      ]
     },
     "execution_count": 43,
     "metadata": {},
     "output_type": "execute_result"
    }
   ],
   "source": [
    "intList"
   ]
  },
  {
   "cell_type": "code",
   "execution_count": 45,
   "id": "b77738d6",
   "metadata": {},
   "outputs": [
    {
     "data": {
      "text/plain": [
       "2"
      ]
     },
     "execution_count": 45,
     "metadata": {},
     "output_type": "execute_result"
    }
   ],
   "source": [
    "min(intList)"
   ]
  },
  {
   "cell_type": "code",
   "execution_count": 46,
   "id": "1d7206eb",
   "metadata": {},
   "outputs": [
    {
     "data": {
      "text/plain": [
       "70"
      ]
     },
     "execution_count": 46,
     "metadata": {},
     "output_type": "execute_result"
    }
   ],
   "source": [
    "max(intList)"
   ]
  },
  {
   "cell_type": "code",
   "execution_count": 47,
   "id": "fac23e7a",
   "metadata": {},
   "outputs": [
    {
     "data": {
      "text/plain": [
       "[2, 8, 15, 40, 55, 70]"
      ]
     },
     "execution_count": 47,
     "metadata": {},
     "output_type": "execute_result"
    }
   ],
   "source": [
    "intList"
   ]
  },
  {
   "cell_type": "code",
   "execution_count": 48,
   "id": "86c8e0a4",
   "metadata": {},
   "outputs": [
    {
     "ename": "ValueError",
     "evalue": "100 is not in list",
     "output_type": "error",
     "traceback": [
      "\u001b[1;31m---------------------------------------------------------------------------\u001b[0m",
      "\u001b[1;31mValueError\u001b[0m                                Traceback (most recent call last)",
      "Cell \u001b[1;32mIn[48], line 1\u001b[0m\n\u001b[1;32m----> 1\u001b[0m intList\u001b[38;5;241m.\u001b[39mindex(\u001b[38;5;241m100\u001b[39m)\n",
      "\u001b[1;31mValueError\u001b[0m: 100 is not in list"
     ]
    }
   ],
   "source": [
    "intList.index(100)"
   ]
  },
  {
   "cell_type": "code",
   "execution_count": null,
   "id": "5a72266c",
   "metadata": {},
   "outputs": [],
   "source": []
  }
 ],
 "metadata": {
  "kernelspec": {
   "display_name": "Python 3 (ipykernel)",
   "language": "python",
   "name": "python3"
  },
  "language_info": {
   "codemirror_mode": {
    "name": "ipython",
    "version": 3
   },
   "file_extension": ".py",
   "mimetype": "text/x-python",
   "name": "python",
   "nbconvert_exporter": "python",
   "pygments_lexer": "ipython3",
   "version": "3.11.4"
  }
 },
 "nbformat": 4,
 "nbformat_minor": 5
}
