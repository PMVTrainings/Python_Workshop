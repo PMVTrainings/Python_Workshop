{
 "cells": [
  {
   "cell_type": "markdown",
   "id": "58268d98",
   "metadata": {},
   "source": [
    "### Functional Programming Methods \n",
    "- List Comprehension\n",
    "- lambda function\n",
    "- map\n",
    "- filter\n",
    "- iterator\n",
    "- generator"
   ]
  },
  {
   "cell_type": "code",
   "execution_count": 1,
   "id": "30d9f949",
   "metadata": {},
   "outputs": [
    {
     "name": "stdout",
     "output_type": "stream",
     "text": [
      "[1, 2, 3, 4, 5, 6, 7, 8, 9, 10]\n"
     ]
    }
   ],
   "source": [
    "# List Comprehension\n",
    "#It always returns the list only\n",
    "#I want to create a 1 to 10 natural numbers List\n",
    "li = []\n",
    "for i in range(1,11):\n",
    "    li.append(i)\n",
    "\n",
    "print(li)"
   ]
  },
  {
   "cell_type": "code",
   "execution_count": 3,
   "id": "7e9ce3fa",
   "metadata": {},
   "outputs": [],
   "source": [
    "li1 = [i for i in range(1,11)]"
   ]
  },
  {
   "cell_type": "code",
   "execution_count": 4,
   "id": "42dc39a7",
   "metadata": {},
   "outputs": [
    {
     "name": "stdout",
     "output_type": "stream",
     "text": [
      "[1, 2, 3, 4, 5, 6, 7, 8, 9, 10]\n"
     ]
    }
   ],
   "source": [
    "print(li1)"
   ]
  },
  {
   "cell_type": "code",
   "execution_count": 5,
   "id": "5b540cec",
   "metadata": {},
   "outputs": [],
   "source": [
    "#Apply List comprehension to store the cubes of natural numbers\n",
    "cli = [i**3 for i in range(1,10)]"
   ]
  },
  {
   "cell_type": "code",
   "execution_count": 6,
   "id": "cf93687e",
   "metadata": {},
   "outputs": [
    {
     "data": {
      "text/plain": [
       "[1, 8, 27, 64, 125, 216, 343, 512, 729]"
      ]
     },
     "execution_count": 6,
     "metadata": {},
     "output_type": "execute_result"
    }
   ],
   "source": [
    "cli"
   ]
  },
  {
   "cell_type": "code",
   "execution_count": 7,
   "id": "c09949ee",
   "metadata": {},
   "outputs": [],
   "source": [
    "#Apply list comprehension to print all even numbers in between given range\n",
    "eli = [i for i in range(1,21) if i%2 == 0]"
   ]
  },
  {
   "cell_type": "code",
   "execution_count": 8,
   "id": "63766d65",
   "metadata": {},
   "outputs": [
    {
     "data": {
      "text/plain": [
       "[2, 4, 6, 8, 10, 12, 14, 16, 18, 20]"
      ]
     },
     "execution_count": 8,
     "metadata": {},
     "output_type": "execute_result"
    }
   ],
   "source": [
    "eli"
   ]
  },
  {
   "cell_type": "code",
   "execution_count": 16,
   "id": "a3e8c7e7",
   "metadata": {},
   "outputs": [
    {
     "name": "stdout",
     "output_type": "stream",
     "text": [
      "2\n"
     ]
    }
   ],
   "source": [
    "#apply the list comprehension to print primenumbers in between given range\n",
    "def isPrime(n):\n",
    "    fc = 0\n",
    "    for i in range(1,n+1):\n",
    "        if n%i == 0:\n",
    "            fc = fc + 1\n",
    "    if fc == 2:\n",
    "        print(i)\n",
    "isPrime(2)"
   ]
  },
  {
   "cell_type": "code",
   "execution_count": 17,
   "id": "53bca52c",
   "metadata": {},
   "outputs": [
    {
     "name": "stdout",
     "output_type": "stream",
     "text": [
      "2\n",
      "3\n",
      "5\n",
      "7\n",
      "11\n",
      "13\n",
      "17\n",
      "19\n",
      "23\n",
      "29\n",
      "31\n",
      "37\n",
      "41\n",
      "43\n",
      "47\n"
     ]
    }
   ],
   "source": [
    "pli = [isPrime(i) for i in range(1,50)]"
   ]
  },
  {
   "cell_type": "markdown",
   "id": "7a1f84ca",
   "metadata": {},
   "source": [
    "### Iterators"
   ]
  },
  {
   "cell_type": "code",
   "execution_count": 25,
   "id": "45cdc74c",
   "metadata": {},
   "outputs": [
    {
     "name": "stdout",
     "output_type": "stream",
     "text": [
      "p\n",
      "y\n",
      "t\n",
      "h\n"
     ]
    }
   ],
   "source": [
    "#Iterable -> Strings,Lists,Tuples,Sets,Dictories\n",
    "#To convert Interable to iterator we have function called --> iter()\n",
    "it = iter(\"python\")\n",
    "print(next(it))\n",
    "print(next(it))\n",
    "print(next(it))\n",
    "print(next(it))"
   ]
  },
  {
   "cell_type": "code",
   "execution_count": 26,
   "id": "456a7570",
   "metadata": {},
   "outputs": [
    {
     "data": {
      "text/plain": [
       "['__class__',\n",
       " '__delattr__',\n",
       " '__dir__',\n",
       " '__doc__',\n",
       " '__eq__',\n",
       " '__format__',\n",
       " '__ge__',\n",
       " '__getattribute__',\n",
       " '__getstate__',\n",
       " '__gt__',\n",
       " '__hash__',\n",
       " '__init__',\n",
       " '__init_subclass__',\n",
       " '__iter__',\n",
       " '__le__',\n",
       " '__length_hint__',\n",
       " '__lt__',\n",
       " '__ne__',\n",
       " '__new__',\n",
       " '__next__',\n",
       " '__reduce__',\n",
       " '__reduce_ex__',\n",
       " '__repr__',\n",
       " '__setattr__',\n",
       " '__setstate__',\n",
       " '__sizeof__',\n",
       " '__str__',\n",
       " '__subclasshook__']"
      ]
     },
     "execution_count": 26,
     "metadata": {},
     "output_type": "execute_result"
    }
   ],
   "source": [
    "dir(it)"
   ]
  },
  {
   "cell_type": "markdown",
   "id": "ceec0d28",
   "metadata": {},
   "source": [
    "### Generators"
   ]
  },
  {
   "cell_type": "code",
   "execution_count": 27,
   "id": "0bf5f09a",
   "metadata": {},
   "outputs": [
    {
     "name": "stdout",
     "output_type": "stream",
     "text": [
      "1\n",
      "2\n",
      "3\n"
     ]
    }
   ],
   "source": [
    "# A generator function that yields 1 for first time,\n",
    "# 2 second time and 3 third time\n",
    "def simpleGeneratorFun():\n",
    "    yield 1            \n",
    "    yield 2            \n",
    "    yield 3            \n",
    " \n",
    "# Driver code to check above generator function\n",
    "for value in simpleGeneratorFun(): \n",
    "    print(value)"
   ]
  },
  {
   "cell_type": "code",
   "execution_count": 28,
   "id": "aaaa69f5",
   "metadata": {},
   "outputs": [
    {
     "name": "stdout",
     "output_type": "stream",
     "text": [
      "1\n",
      "2\n",
      "3\n"
     ]
    }
   ],
   "source": [
    "# A Python program to demonstrate use of \n",
    "# generator object with next() \n",
    "\n",
    "# A generator function\n",
    "def simpleGeneratorFun():\n",
    "    yield 1\n",
    "    yield 2\n",
    "    yield 3\n",
    " \n",
    "# x is a generator object\n",
    "x = simpleGeneratorFun()\n",
    "\n",
    "# Iterating over the generator object using next\n",
    "\n",
    "# In Python 3, __next__()\n",
    "print(next(x))\n",
    "print(next(x))\n",
    "print(next(x))"
   ]
  },
  {
   "cell_type": "markdown",
   "id": "f95888d1",
   "metadata": {},
   "source": [
    "### map()"
   ]
  },
  {
   "cell_type": "code",
   "execution_count": 29,
   "id": "75c0f7af",
   "metadata": {},
   "outputs": [
    {
     "name": "stdout",
     "output_type": "stream",
     "text": [
      "Enter a values by using space 1 20 12 8 45 36\n"
     ]
    }
   ],
   "source": [
    "li = input(\"Enter a values by using space \").split(\" \")"
   ]
  },
  {
   "cell_type": "code",
   "execution_count": 30,
   "id": "ec42ada2",
   "metadata": {},
   "outputs": [
    {
     "data": {
      "text/plain": [
       "['1', '20', '12', '8', '45', '36']"
      ]
     },
     "execution_count": 30,
     "metadata": {},
     "output_type": "execute_result"
    }
   ],
   "source": [
    "li"
   ]
  },
  {
   "cell_type": "code",
   "execution_count": 33,
   "id": "89a78921",
   "metadata": {},
   "outputs": [],
   "source": [
    "ili = []\n",
    "for i in li:\n",
    "    ili.append(int(i))"
   ]
  },
  {
   "cell_type": "code",
   "execution_count": 34,
   "id": "b54f8e2a",
   "metadata": {},
   "outputs": [
    {
     "data": {
      "text/plain": [
       "[1, 20, 12, 8, 45, 36]"
      ]
     },
     "execution_count": 34,
     "metadata": {},
     "output_type": "execute_result"
    }
   ],
   "source": [
    "ili"
   ]
  },
  {
   "cell_type": "code",
   "execution_count": 37,
   "id": "2c408377",
   "metadata": {},
   "outputs": [],
   "source": [
    "mili = list(map(int,li))"
   ]
  },
  {
   "cell_type": "code",
   "execution_count": 38,
   "id": "dcc3c614",
   "metadata": {},
   "outputs": [
    {
     "data": {
      "text/plain": [
       "[1, 20, 12, 8, 45, 36]"
      ]
     },
     "execution_count": 38,
     "metadata": {},
     "output_type": "execute_result"
    }
   ],
   "source": [
    "mili"
   ]
  },
  {
   "cell_type": "code",
   "execution_count": 39,
   "id": "60394e9c",
   "metadata": {},
   "outputs": [],
   "source": [
    "def cube(n):\n",
    "    return n**3"
   ]
  },
  {
   "cell_type": "code",
   "execution_count": 40,
   "id": "59a0f70c",
   "metadata": {},
   "outputs": [],
   "source": [
    "cli = list(map(cube,[1,2,3]))"
   ]
  },
  {
   "cell_type": "code",
   "execution_count": 41,
   "id": "2917864a",
   "metadata": {},
   "outputs": [
    {
     "data": {
      "text/plain": [
       "[1, 8, 27]"
      ]
     },
     "execution_count": 41,
     "metadata": {},
     "output_type": "execute_result"
    }
   ],
   "source": [
    "cli"
   ]
  },
  {
   "cell_type": "markdown",
   "id": "d3cf98e5",
   "metadata": {},
   "source": [
    "### Filter"
   ]
  },
  {
   "cell_type": "code",
   "execution_count": 48,
   "id": "bb4a3510",
   "metadata": {},
   "outputs": [
    {
     "name": "stdout",
     "output_type": "stream",
     "text": [
      "1\n",
      "2\n",
      "3\n",
      "5\n",
      "7\n",
      "8\n"
     ]
    }
   ],
   "source": [
    "#The filter() method filters the given sequence\n",
    "#with the help of a function that tests each element in the sequence to be true or not. \n",
    "li = ['1','2','3','a','g','c','5','7','8']\n",
    "for i in li:\n",
    "    if i.isdigit():\n",
    "        print(i)"
   ]
  },
  {
   "cell_type": "code",
   "execution_count": 49,
   "id": "515aeed4",
   "metadata": {},
   "outputs": [],
   "source": [
    "def isDigit(n):\n",
    "    s = str(n)\n",
    "    if s.isdigit():\n",
    "        return True"
   ]
  },
  {
   "cell_type": "code",
   "execution_count": 50,
   "id": "2bba3ce7",
   "metadata": {},
   "outputs": [],
   "source": [
    "fli = list(filter(isDigit,li))"
   ]
  },
  {
   "cell_type": "code",
   "execution_count": 51,
   "id": "05d882c6",
   "metadata": {},
   "outputs": [
    {
     "data": {
      "text/plain": [
       "['1', '2', '3', '5', '7', '8']"
      ]
     },
     "execution_count": 51,
     "metadata": {},
     "output_type": "execute_result"
    }
   ],
   "source": [
    "fli"
   ]
  },
  {
   "cell_type": "code",
   "execution_count": null,
   "id": "2cb70f04",
   "metadata": {},
   "outputs": [],
   "source": []
  }
 ],
 "metadata": {
  "kernelspec": {
   "display_name": "Python 3 (ipykernel)",
   "language": "python",
   "name": "python3"
  },
  "language_info": {
   "codemirror_mode": {
    "name": "ipython",
    "version": 3
   },
   "file_extension": ".py",
   "mimetype": "text/x-python",
   "name": "python",
   "nbconvert_exporter": "python",
   "pygments_lexer": "ipython3",
   "version": "3.11.4"
  }
 },
 "nbformat": 4,
 "nbformat_minor": 5
}
