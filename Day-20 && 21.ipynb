{
 "cells": [
  {
   "cell_type": "markdown",
   "id": "a03ab2de",
   "metadata": {},
   "source": [
    "### Object Oriented in Python"
   ]
  },
  {
   "cell_type": "code",
   "execution_count": 1,
   "id": "47c9ba01",
   "metadata": {},
   "outputs": [],
   "source": [
    "#If you want to learn the oops concepts in python first you have to understand three termonologies\n",
    "#i.e 1.Class 2. Object 3.Refrence\n",
    "#class: class is a blue print of object. Class is nothing but action plan \n",
    "#object: Object is nothing but physical entity which can developed through the action plan\n",
    "#Reference Variable: It is variable , It is used to perform any operation on object we required.\n",
    "\n"
   ]
  },
  {
   "cell_type": "code",
   "execution_count": 14,
   "id": "f5fc1853",
   "metadata": {},
   "outputs": [
    {
     "name": "stdout",
     "output_type": "stream",
     "text": [
      "My Name is  mastan\n",
      "My Rollno is  100\n",
      "My Name is  mastan\n",
      "My Rollno is  100\n",
      "My Name is  satwik\n",
      "My Rollno is  101\n"
     ]
    }
   ],
   "source": [
    "class Student:\n",
    "    '''This is doc string'''\n",
    "    def __init__(self,rollno,name):\n",
    "        self.rollno = rollno\n",
    "        self.name = name\n",
    "    def sInfo(self):\n",
    "        print(\"My Name is \",self.name)\n",
    "        print(\"My Rollno is \",self.rollno)\n",
    "    def dummy(self):\n",
    "        print(\"My Name is \",self.name)\n",
    "        print(\"My Rollno is \",self.rollno)\n",
    "        \n",
    "\n",
    "s = Student(100,\"mastan\")#\n",
    "s1 = Student(101,\"satwik\")\n",
    "s.sInfo()\n",
    "s.dummy()\n",
    "s1.sInfo()\n",
    "        "
   ]
  },
  {
   "cell_type": "code",
   "execution_count": 15,
   "id": "f1892274",
   "metadata": {},
   "outputs": [],
   "source": [
    "#Self Variable:\n",
    "#---------------\n",
    "#self is an implicit variable which is always provided by the PVM(python virtual machine)\n",
    "#self is always pointing to current object\n",
    "#For every constructor and instance method the first agument should be 'self'\n",
    "#With in the class self can be used to declare instance variables and to access instance variables\n",
    "\n",
    "#Constructor:\n",
    "#------------\n",
    "#the name should be always : __init__()\n",
    "#When ever we are creating a object, constructor will be automatically excuted\n",
    "#We are not required to call explicitly\n",
    "#The main objective of constructor is to declare and inialize instance variables\n",
    "#For every object constructor will be excuted only once.\n",
    "#Constructor will take atleast one argument(i.e self)\n",
    "#If you not writing any constructor python will provide default constructor\n"
   ]
  },
  {
   "cell_type": "code",
   "execution_count": 18,
   "id": "3d3fdd78",
   "metadata": {},
   "outputs": [
    {
     "name": "stdout",
     "output_type": "stream",
     "text": [
      "Constructor excution...\n",
      "Constructor excution...\n",
      "Constructor excution...\n"
     ]
    }
   ],
   "source": [
    "class Test:\n",
    "    def __init__(self):\n",
    "        print(\"Constructor excution...\")\n",
    "t = Test()\n",
    "t = Test()\n",
    "t = Test()"
   ]
  },
  {
   "cell_type": "markdown",
   "id": "520d25d6",
   "metadata": {},
   "source": [
    "### oops Concepts in python\n",
    "- class \n",
    "- objects \n",
    "- Inheritance\n",
    "- Encapsulation \n",
    "- Polymorphism \n",
    "- Data Abstraction\n"
   ]
  },
  {
   "cell_type": "code",
   "execution_count": 1,
   "id": "b98e68aa",
   "metadata": {},
   "outputs": [],
   "source": [
    "#Inheritance\n",
    "#Inheritance is the capabilioty of one class to derive or inherit the properties from another class.\n",
    "#It provides the reusablity of a code. We don't have to write the same code again and again. \n",
    "#              Also it allows us to add more features to class without modifying it.\n",
    "#It is sensative in nature, Which means that If class B inherits from another class A, \n",
    "#                 then all the subclasses of B would automatically in herit from class A\n",
    "\n",
    "#Types of Inheritance:\n",
    "#-------------------------\n",
    "#Single Inheritance\n",
    "#Multilevel Inheritance\n",
    "#Hierarvhical Inherirance\n",
    "#Multiple Inheritance"
   ]
  },
  {
   "cell_type": "code",
   "execution_count": 6,
   "id": "f7f821a9",
   "metadata": {},
   "outputs": [
    {
     "name": "stdout",
     "output_type": "stream",
     "text": [
      "Class A constructor\n",
      "mastan\n",
      "100\n"
     ]
    }
   ],
   "source": [
    "class Student:\n",
    "    def __init__(self,name,rollno):\n",
    "        self.name = name\n",
    "        self.rollno = rollno\n",
    "    def displayInfo(self):\n",
    "        print(self.name)\n",
    "        print(self.rollno)\n",
    "\n",
    "class A(Student):\n",
    "    def __init__(self,name,rollno):\n",
    "        self.name = name\n",
    "        self.rollno = rollno\n",
    "        print(\"Class A constructor\")\n",
    "\n",
    "a = A(\"mastan\",100)\n",
    "a.displayInfo()"
   ]
  },
  {
   "cell_type": "code",
   "execution_count": 11,
   "id": "203dcedb",
   "metadata": {},
   "outputs": [
    {
     "name": "stdout",
     "output_type": "stream",
     "text": [
      "This function is in parent class.\n",
      "This function is in child class.\n"
     ]
    }
   ],
   "source": [
    "##Single Inheritance\n",
    "class Parent:\n",
    "    def func1(self):\n",
    "        print(\"This function is in parent class.\")\n",
    "        \n",
    "class Child(Parent):\n",
    "    def func2(self):\n",
    "        print(\"This function is in child class.\")\n",
    "\n",
    "\n",
    "c = Child()\n",
    "c.func1()\n",
    "c.func2()"
   ]
  },
  {
   "cell_type": "code",
   "execution_count": 12,
   "id": "189ce6f6",
   "metadata": {},
   "outputs": [
    {
     "name": "stdout",
     "output_type": "stream",
     "text": [
      "Mother Properties\n",
      "Father properties\n",
      "Child Property\n"
     ]
    }
   ],
   "source": [
    "#Multiple Inheritance\n",
    "class Mother:\n",
    "    def mFunc(self):\n",
    "        print(\"Mother Properties\")\n",
    "        \n",
    "class Father:\n",
    "    def fFunc(self):\n",
    "        print(\"Father properties\")\n",
    "        \n",
    "class Child(Mother,Father):\n",
    "    def cFunc(self):\n",
    "        print(\"Child Property\")\n",
    "\n",
    "c = Child()\n",
    "c.mFunc()\n",
    "c.fFunc()\n",
    "c.cFunc()\n",
    "\n"
   ]
  },
  {
   "cell_type": "code",
   "execution_count": 15,
   "id": "5d7ce854",
   "metadata": {},
   "outputs": [
    {
     "name": "stdout",
     "output_type": "stream",
     "text": [
      "GrandFather Properties\n",
      "Father properties\n",
      "Child Property\n"
     ]
    }
   ],
   "source": [
    "#Multilevel Inheritance\n",
    "class Garandfather:\n",
    "    def gFunc(self):\n",
    "        print(\"GrandFather Properties\")\n",
    "        \n",
    "class Father(Garandfather):\n",
    "    def fFunc(self):\n",
    "        print(\"Father properties\")\n",
    "        \n",
    "class Child(Father):\n",
    "    def cFunc(self):\n",
    "        print(\"Child Property\")\n",
    "        \n",
    "c = Child()\n",
    "c.gFunc()\n",
    "c.fFunc()\n",
    "c.cFunc()"
   ]
  },
  {
   "cell_type": "code",
   "execution_count": 17,
   "id": "dd6ea7fb",
   "metadata": {},
   "outputs": [
    {
     "name": "stdout",
     "output_type": "stream",
     "text": [
      "This is parent property\n",
      "This is parent property\n"
     ]
    }
   ],
   "source": [
    "#Hierarchical Inherirance\n",
    "class Parent:\n",
    "    def func1(self):\n",
    "        print(\"This is parent property\")\n",
    "        \n",
    "class Child1(Parent):\n",
    "    def func2(self):\n",
    "        print(\"This is child1 property\")\n",
    "        \n",
    "class Child2(Parent):\n",
    "    def func3(self):\n",
    "        print(\"This is child2 property\")\n",
    "\n",
    "c = Child1()\n",
    "c.func1()\n",
    "c2 = Child2()\n",
    "c2.func1()"
   ]
  },
  {
   "cell_type": "code",
   "execution_count": null,
   "id": "15a89d36",
   "metadata": {},
   "outputs": [],
   "source": []
  }
 ],
 "metadata": {
  "kernelspec": {
   "display_name": "Python 3 (ipykernel)",
   "language": "python",
   "name": "python3"
  },
  "language_info": {
   "codemirror_mode": {
    "name": "ipython",
    "version": 3
   },
   "file_extension": ".py",
   "mimetype": "text/x-python",
   "name": "python",
   "nbconvert_exporter": "python",
   "pygments_lexer": "ipython3",
   "version": "3.11.4"
  }
 },
 "nbformat": 4,
 "nbformat_minor": 5
}
