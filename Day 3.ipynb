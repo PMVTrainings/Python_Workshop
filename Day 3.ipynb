{
 "cells": [
  {
   "cell_type": "markdown",
   "id": "a5a71569",
   "metadata": {},
   "source": [
    "### Today Objectives\n",
    "- Logical operators(and,or,not)\n",
    "- Identity operators(is, is not)\n",
    "- Membership operators(in,not in)\n",
    "- Bitwise operators(&,|,^,~,<<,>>)"
   ]
  },
  {
   "cell_type": "code",
   "execution_count": 1,
   "id": "23014e23",
   "metadata": {},
   "outputs": [
    {
     "data": {
      "text/plain": [
       "False"
      ]
     },
     "execution_count": 1,
     "metadata": {},
     "output_type": "execute_result"
    }
   ],
   "source": [
    "#Logical operators(and,or,not)\n",
    "a = 10\n",
    "b = 35\n",
    "a < 5 and b > 100"
   ]
  },
  {
   "cell_type": "code",
   "execution_count": 2,
   "id": "26f12e3b",
   "metadata": {},
   "outputs": [
    {
     "data": {
      "text/plain": [
       "False"
      ]
     },
     "execution_count": 2,
     "metadata": {},
     "output_type": "execute_result"
    }
   ],
   "source": [
    "a < 5 or b > 100"
   ]
  },
  {
   "cell_type": "code",
   "execution_count": 3,
   "id": "079e55f3",
   "metadata": {},
   "outputs": [
    {
     "data": {
      "text/plain": [
       "True"
      ]
     },
     "execution_count": 3,
     "metadata": {},
     "output_type": "execute_result"
    }
   ],
   "source": [
    "not(a>50)"
   ]
  },
  {
   "cell_type": "code",
   "execution_count": 6,
   "id": "6ade940b",
   "metadata": {},
   "outputs": [
    {
     "data": {
      "text/plain": [
       "True"
      ]
     },
     "execution_count": 6,
     "metadata": {},
     "output_type": "execute_result"
    }
   ],
   "source": [
    "#Identity operators(is, is not)\n",
    "# is - > Returns true if both variables are the same object\n",
    "a = 10\n",
    "b = 10\n",
    "\n",
    "a is b"
   ]
  },
  {
   "cell_type": "code",
   "execution_count": 7,
   "id": "ffe5ce03",
   "metadata": {},
   "outputs": [
    {
     "data": {
      "text/plain": [
       "True"
      ]
     },
     "execution_count": 7,
     "metadata": {},
     "output_type": "execute_result"
    }
   ],
   "source": [
    "# is not --> Retruns true if both the varibles are not the same same object\n",
    "\n",
    "x = 5\n",
    "\n",
    "y = 6\n",
    "\n",
    "x is not y\n"
   ]
  },
  {
   "cell_type": "code",
   "execution_count": 8,
   "id": "d6f262db",
   "metadata": {},
   "outputs": [
    {
     "data": {
      "text/plain": [
       "True"
      ]
     },
     "execution_count": 8,
     "metadata": {},
     "output_type": "execute_result"
    }
   ],
   "source": [
    "#Membership operators(in,not in)\n",
    "# in ---> Retruns true if the value is available in the given string or array\n",
    "s = \"python\"\n",
    "'o' in s"
   ]
  },
  {
   "cell_type": "code",
   "execution_count": 9,
   "id": "e58f704b",
   "metadata": {},
   "outputs": [
    {
     "data": {
      "text/plain": [
       "False"
      ]
     },
     "execution_count": 9,
     "metadata": {},
     "output_type": "execute_result"
    }
   ],
   "source": [
    "'m' in s"
   ]
  },
  {
   "cell_type": "code",
   "execution_count": 11,
   "id": "6566a09d",
   "metadata": {},
   "outputs": [
    {
     "data": {
      "text/plain": [
       "True"
      ]
     },
     "execution_count": 11,
     "metadata": {},
     "output_type": "execute_result"
    }
   ],
   "source": [
    "# not in ---> Returns true if the value is not available in the given string or array\n",
    "'m' not in s"
   ]
  },
  {
   "cell_type": "code",
   "execution_count": 2,
   "id": "079aca6c",
   "metadata": {},
   "outputs": [
    {
     "name": "stdout",
     "output_type": "stream",
     "text": [
      "2\n",
      "14\n",
      "12\n",
      "-11\n",
      "40\n",
      "2\n"
     ]
    }
   ],
   "source": [
    "#Bitwise operators(&,|,^,~,<<,>>)\n",
    "a = 10\n",
    "b = 6\n",
    "\n",
    "#8421\n",
    "\n",
    "\n",
    "# a  1010\n",
    "# b  0110\n",
    "#--------------\n",
    "#&   0010  ==> 2\n",
    "#|   1110  ==> 14\n",
    "#\n",
    "\n",
    "\n",
    "print(a&b)\n",
    "print(a|b)\n",
    "print(a^b)#(^(X-OR))\n",
    "print(~a)#-(a+1) ==> -(10+1) == -11\n",
    "print(a<<2)# n*2^n ==> 10*2^2 == \n",
    "print(a>>2)"
   ]
  },
  {
   "cell_type": "code",
   "execution_count": 7,
   "id": "65852d40",
   "metadata": {},
   "outputs": [
    {
     "name": "stdout",
     "output_type": "stream",
     "text": [
      "40\n"
     ]
    }
   ],
   "source": [
    "# 124 64 32 16 8 4 2 1\n",
    "# 10 --> 00001010\n",
    "print(a<<2)\n",
    "\n",
    "#10*2**2 \n"
   ]
  },
  {
   "cell_type": "code",
   "execution_count": null,
   "id": "9d15e5cf",
   "metadata": {},
   "outputs": [],
   "source": []
  }
 ],
 "metadata": {
  "kernelspec": {
   "display_name": "Python 3 (ipykernel)",
   "language": "python",
   "name": "python3"
  },
  "language_info": {
   "codemirror_mode": {
    "name": "ipython",
    "version": 3
   },
   "file_extension": ".py",
   "mimetype": "text/x-python",
   "name": "python",
   "nbconvert_exporter": "python",
   "pygments_lexer": "ipython3",
   "version": "3.11.4"
  }
 },
 "nbformat": 4,
 "nbformat_minor": 5
}
