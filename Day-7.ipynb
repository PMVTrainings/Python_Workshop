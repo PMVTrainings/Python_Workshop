{
 "cells": [
  {
   "cell_type": "markdown",
   "id": "4b888dae",
   "metadata": {},
   "source": [
    "### Today Objectives\n",
    "- Strings and String slicing\n",
    "- Functions"
   ]
  },
  {
   "cell_type": "code",
   "execution_count": 13,
   "id": "dbafced3",
   "metadata": {},
   "outputs": [
    {
     "data": {
      "text/plain": [
       "'nohtyp'"
      ]
     },
     "execution_count": 13,
     "metadata": {},
     "output_type": "execute_result"
    }
   ],
   "source": [
    "#String\n",
    "#String means collection of characters\n",
    "#String declaration in python '' or \"\"\n",
    "#String looks like an array\n",
    "#If you want to access the string elements or characters here we are having two ways to access.\n",
    "#                 1. By using positive Indexing\n",
    "#                 2. By using negative Indexing\n",
    "s = \"python\"\n",
    "# 1. By using positive Indexing(left to right)\n",
    "s[0]#Accessing first element\n",
    "s[1]#accessing second element\n",
    "s[2]#accessing third element\n",
    "#2. By using negative Indexing(right to left)\n",
    "s[-1]\n",
    "s[-2]\n",
    "s[-3]\n",
    "#In Strings we can use step parameter\n",
    "s[0:2:2]\n",
    "s[::2]\n",
    "s[::-1]#to reverse the string"
   ]
  },
  {
   "cell_type": "code",
   "execution_count": 14,
   "id": "35f21cbd",
   "metadata": {},
   "outputs": [
    {
     "data": {
      "text/plain": [
       "6"
      ]
     },
     "execution_count": 14,
     "metadata": {},
     "output_type": "execute_result"
    }
   ],
   "source": [
    "#if you want to know the length of the string. There is a predefined method or function called 'len()'\n",
    "len(s)"
   ]
  },
  {
   "cell_type": "code",
   "execution_count": 15,
   "id": "7bf05caf",
   "metadata": {},
   "outputs": [
    {
     "data": {
      "text/plain": [
       "18"
      ]
     },
     "execution_count": 15,
     "metadata": {},
     "output_type": "execute_result"
    }
   ],
   "source": [
    "s1 = \"python programming\"\n",
    "len(s1)"
   ]
  },
  {
   "cell_type": "code",
   "execution_count": 20,
   "id": "98bc9d26",
   "metadata": {},
   "outputs": [
    {
     "name": "stdout",
     "output_type": "stream",
     "text": [
      "Enter a string to check palindrome or not madam\n",
      "madam  palindrome\n"
     ]
    }
   ],
   "source": [
    "#Check the given string is palindrome or not\n",
    "s = input(\"Enter a string to check palindrome or not \")\n",
    "revS = s[::-1]\n",
    "if s == revS:\n",
    "    print(s,\" palindrome\")\n",
    "else:\n",
    "    print(s,\" Not palindrome\")"
   ]
  },
  {
   "cell_type": "code",
   "execution_count": 21,
   "id": "ce5567b1",
   "metadata": {},
   "outputs": [
    {
     "data": {
      "text/plain": [
       "['__add__',\n",
       " '__class__',\n",
       " '__contains__',\n",
       " '__delattr__',\n",
       " '__dir__',\n",
       " '__doc__',\n",
       " '__eq__',\n",
       " '__format__',\n",
       " '__ge__',\n",
       " '__getattribute__',\n",
       " '__getitem__',\n",
       " '__getnewargs__',\n",
       " '__getstate__',\n",
       " '__gt__',\n",
       " '__hash__',\n",
       " '__init__',\n",
       " '__init_subclass__',\n",
       " '__iter__',\n",
       " '__le__',\n",
       " '__len__',\n",
       " '__lt__',\n",
       " '__mod__',\n",
       " '__mul__',\n",
       " '__ne__',\n",
       " '__new__',\n",
       " '__reduce__',\n",
       " '__reduce_ex__',\n",
       " '__repr__',\n",
       " '__rmod__',\n",
       " '__rmul__',\n",
       " '__setattr__',\n",
       " '__sizeof__',\n",
       " '__str__',\n",
       " '__subclasshook__',\n",
       " 'capitalize',\n",
       " 'casefold',\n",
       " 'center',\n",
       " 'count',\n",
       " 'encode',\n",
       " 'endswith',\n",
       " 'expandtabs',\n",
       " 'find',\n",
       " 'format',\n",
       " 'format_map',\n",
       " 'index',\n",
       " 'isalnum',\n",
       " 'isalpha',\n",
       " 'isascii',\n",
       " 'isdecimal',\n",
       " 'isdigit',\n",
       " 'isidentifier',\n",
       " 'islower',\n",
       " 'isnumeric',\n",
       " 'isprintable',\n",
       " 'isspace',\n",
       " 'istitle',\n",
       " 'isupper',\n",
       " 'join',\n",
       " 'ljust',\n",
       " 'lower',\n",
       " 'lstrip',\n",
       " 'maketrans',\n",
       " 'partition',\n",
       " 'removeprefix',\n",
       " 'removesuffix',\n",
       " 'replace',\n",
       " 'rfind',\n",
       " 'rindex',\n",
       " 'rjust',\n",
       " 'rpartition',\n",
       " 'rsplit',\n",
       " 'rstrip',\n",
       " 'split',\n",
       " 'splitlines',\n",
       " 'startswith',\n",
       " 'strip',\n",
       " 'swapcase',\n",
       " 'title',\n",
       " 'translate',\n",
       " 'upper',\n",
       " 'zfill']"
      ]
     },
     "execution_count": 21,
     "metadata": {},
     "output_type": "execute_result"
    }
   ],
   "source": [
    "dir(str)"
   ]
  },
  {
   "cell_type": "code",
   "execution_count": 27,
   "id": "1126ed08",
   "metadata": {},
   "outputs": [],
   "source": [
    "s = 'wlcome to python workshop'"
   ]
  },
  {
   "cell_type": "code",
   "execution_count": 23,
   "id": "887fee86",
   "metadata": {},
   "outputs": [
    {
     "data": {
      "text/plain": [
       "'Python'"
      ]
     },
     "execution_count": 23,
     "metadata": {},
     "output_type": "execute_result"
    }
   ],
   "source": [
    "s.capitalize()"
   ]
  },
  {
   "cell_type": "code",
   "execution_count": 24,
   "id": "5cad6cfc",
   "metadata": {},
   "outputs": [
    {
     "data": {
      "text/plain": [
       "'python'"
      ]
     },
     "execution_count": 24,
     "metadata": {},
     "output_type": "execute_result"
    }
   ],
   "source": [
    "s.casefold()"
   ]
  },
  {
   "cell_type": "code",
   "execution_count": 28,
   "id": "3fcff865",
   "metadata": {},
   "outputs": [
    {
     "data": {
      "text/plain": [
       "5"
      ]
     },
     "execution_count": 28,
     "metadata": {},
     "output_type": "execute_result"
    }
   ],
   "source": [
    "s.count('o')"
   ]
  },
  {
   "cell_type": "code",
   "execution_count": 30,
   "id": "f2c782bb",
   "metadata": {},
   "outputs": [
    {
     "data": {
      "text/plain": [
       "True"
      ]
     },
     "execution_count": 30,
     "metadata": {},
     "output_type": "execute_result"
    }
   ],
   "source": [
    "s = '15263'\n",
    "s.isdigit()"
   ]
  },
  {
   "cell_type": "code",
   "execution_count": 31,
   "id": "f89d0b47",
   "metadata": {},
   "outputs": [],
   "source": [
    "s = 'welcome to python workshop'"
   ]
  },
  {
   "cell_type": "code",
   "execution_count": 32,
   "id": "5d7376cc",
   "metadata": {},
   "outputs": [
    {
     "data": {
      "text/plain": [
       "['wlcome', 'to', 'python', 'workshop']"
      ]
     },
     "execution_count": 32,
     "metadata": {},
     "output_type": "execute_result"
    }
   ],
   "source": [
    "s.split(\" \")"
   ]
  },
  {
   "cell_type": "code",
   "execution_count": 33,
   "id": "5c27fcbe",
   "metadata": {},
   "outputs": [
    {
     "data": {
      "text/plain": [
       "'WLCOME TO PYTHON WORKSHOP'"
      ]
     },
     "execution_count": 33,
     "metadata": {},
     "output_type": "execute_result"
    }
   ],
   "source": [
    "s.swapcase()"
   ]
  },
  {
   "cell_type": "code",
   "execution_count": 40,
   "id": "682d72fa",
   "metadata": {},
   "outputs": [
    {
     "data": {
      "text/plain": [
       "'wlcome to python workshop'"
      ]
     },
     "execution_count": 40,
     "metadata": {},
     "output_type": "execute_result"
    }
   ],
   "source": [
    "s.translate('en')"
   ]
  },
  {
   "cell_type": "code",
   "execution_count": 41,
   "id": "3f257a40",
   "metadata": {},
   "outputs": [
    {
     "data": {
      "text/plain": [
       "'wlcome to python workshop'"
      ]
     },
     "execution_count": 41,
     "metadata": {},
     "output_type": "execute_result"
    }
   ],
   "source": [
    "s"
   ]
  },
  {
   "cell_type": "code",
   "execution_count": 43,
   "id": "5b564c0d",
   "metadata": {},
   "outputs": [],
   "source": [
    "s = 'welcome to python workshop'"
   ]
  },
  {
   "cell_type": "code",
   "execution_count": 44,
   "id": "88e73eb5",
   "metadata": {},
   "outputs": [
    {
     "data": {
      "text/plain": [
       "'welcome to python workshop'"
      ]
     },
     "execution_count": 44,
     "metadata": {},
     "output_type": "execute_result"
    }
   ],
   "source": [
    "s"
   ]
  },
  {
   "cell_type": "code",
   "execution_count": 45,
   "id": "4d53459e",
   "metadata": {},
   "outputs": [
    {
     "data": {
      "text/plain": [
       "'welcome to python workshop'"
      ]
     },
     "execution_count": 45,
     "metadata": {},
     "output_type": "execute_result"
    }
   ],
   "source": [
    "s.translate('fr')"
   ]
  },
  {
   "cell_type": "code",
   "execution_count": 46,
   "id": "0581501c",
   "metadata": {},
   "outputs": [
    {
     "data": {
      "text/plain": [
       "'WELCOME TO PYTHON WORKSHOP'"
      ]
     },
     "execution_count": 46,
     "metadata": {},
     "output_type": "execute_result"
    }
   ],
   "source": [
    "s.upper()"
   ]
  },
  {
   "cell_type": "code",
   "execution_count": null,
   "id": "7559be99",
   "metadata": {},
   "outputs": [],
   "source": []
  }
 ],
 "metadata": {
  "kernelspec": {
   "display_name": "Python 3 (ipykernel)",
   "language": "python",
   "name": "python3"
  },
  "language_info": {
   "codemirror_mode": {
    "name": "ipython",
    "version": 3
   },
   "file_extension": ".py",
   "mimetype": "text/x-python",
   "name": "python",
   "nbconvert_exporter": "python",
   "pygments_lexer": "ipython3",
   "version": "3.11.4"
  }
 },
 "nbformat": 4,
 "nbformat_minor": 5
}
