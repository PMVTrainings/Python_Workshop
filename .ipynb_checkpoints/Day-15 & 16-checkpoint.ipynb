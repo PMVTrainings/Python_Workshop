{
 "cells": [
  {
   "cell_type": "markdown",
   "id": "d6c28a61",
   "metadata": {},
   "source": [
    "### File Handling in python"
   ]
  },
  {
   "cell_type": "code",
   "execution_count": 1,
   "id": "569a204b",
   "metadata": {},
   "outputs": [],
   "source": [
    "#File ?\n",
    "#by using files we can store the data\n",
    "#By using open() we can handle the files in python\n",
    "#The open() function takes two parameters; filename, and mode.\n",
    "#There are four different methods (modes) for opening a file:\n",
    "#\"r\" - Read - Default value. Opens a file for reading, error if the file does not exist\n",
    "\n",
    "#\"a\" - Append - Opens a file for appending, creates the file if it does not exist\n",
    "\n",
    "#\"w\" - Write - Opens a file for writing, creates the file if it does not exist\n",
    "\n",
    "#\"x\" - Create - Creates the specified file, returns an error if the file exists"
   ]
  },
  {
   "cell_type": "code",
   "execution_count": 7,
   "id": "eb6af6c7",
   "metadata": {},
   "outputs": [
    {
     "name": "stdout",
     "output_type": "stream",
     "text": [
      "Hello Everyone Welcome to python Workshop Batch1\n",
      "<class 'str'>\n",
      "48\n"
     ]
    }
   ],
   "source": [
    "# 'r' Mode\n",
    "def readData(filePath):\n",
    "    with open(filePath,'r') as f:\n",
    "        data = f.read()\n",
    "        print(data)\n",
    "        print(type(data))\n",
    "        print(len(data))\n",
    "fp = 'DataFiles\\sample.txt'\n",
    "readData(fp)"
   ]
  },
  {
   "cell_type": "code",
   "execution_count": 8,
   "id": "cf0d9eab",
   "metadata": {},
   "outputs": [],
   "source": [
    "# 'a' Mode\n",
    "def writeData(filepath):\n",
    "    with open(filepath,'a') as f:\n",
    "        f.write(\"fbdkgdkgdkgdgdkgxfjkjghsdfjk\")\n",
    "fp = 'DataFiles\\sample.txt'\n",
    "writeData(fp)"
   ]
  },
  {
   "cell_type": "code",
   "execution_count": 10,
   "id": "ce885399",
   "metadata": {},
   "outputs": [],
   "source": [
    "# 'w' Mode\n",
    "def writeData(filepath):\n",
    "    with open(filepath,'w') as f:\n",
    "        f.write(\"Hello Hi Good Morning\")\n",
    "fp = 'DataFiles\\sample.txt'\n",
    "writeData(fp)"
   ]
  },
  {
   "cell_type": "code",
   "execution_count": null,
   "id": "ed378b33",
   "metadata": {},
   "outputs": [],
   "source": [
    "# 'r' Mode \n",
    "def readData(filePath):\n",
    "    with open(filePath,'r') as f:\n",
    "        data = f.read()\n",
    "        print(data)\n",
    "\n",
    "fp = 'DataFiles\\new.txt'\n",
    "readData(fp)"
   ]
  }
 ],
 "metadata": {
  "kernelspec": {
   "display_name": "Python 3 (ipykernel)",
   "language": "python",
   "name": "python3"
  },
  "language_info": {
   "codemirror_mode": {
    "name": "ipython",
    "version": 3
   },
   "file_extension": ".py",
   "mimetype": "text/x-python",
   "name": "python",
   "nbconvert_exporter": "python",
   "pygments_lexer": "ipython3",
   "version": "3.11.4"
  }
 },
 "nbformat": 4,
 "nbformat_minor": 5
}
