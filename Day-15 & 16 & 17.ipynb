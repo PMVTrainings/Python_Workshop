{
 "cells": [
  {
   "cell_type": "markdown",
   "id": "3a4340d0",
   "metadata": {},
   "source": [
    "### File Handling in python"
   ]
  },
  {
   "cell_type": "code",
   "execution_count": 1,
   "id": "7e00fb20",
   "metadata": {},
   "outputs": [],
   "source": [
    "#File ?\n",
    "#by using files we can store the data\n",
    "#By using open() we can handle the files in python\n",
    "#The open() function takes two parameters; filename, and mode.\n",
    "#There are four different methods (modes) for opening a file:\n",
    "#\"r\" - Read - Default value. Opens a file for reading, error if the file does not exist\n",
    "\n",
    "#\"a\" - Append - Opens a file for appending, creates the file if it does not exist\n",
    "\n",
    "#\"w\" - Write - Opens a file for writing, creates the file if it does not exist\n",
    "\n",
    "#\"x\" - Create - Creates the specified file, returns an error if the file exists"
   ]
  },
  {
   "cell_type": "code",
   "execution_count": 7,
   "id": "ef84d7e7",
   "metadata": {},
   "outputs": [
    {
     "name": "stdout",
     "output_type": "stream",
     "text": [
      "Hello Everyone Welcome to python Workshop Batch1\n",
      "<class 'str'>\n",
      "48\n"
     ]
    }
   ],
   "source": [
    "# 'r' Mode\n",
    "def readData(filePath):\n",
    "    with open(filePath,'r') as f:\n",
    "        data = f.read()\n",
    "        print(data)\n",
    "        print(type(data))\n",
    "        print(len(data))\n",
    "fp = 'DataFiles\\sample.txt'\n",
    "readData(fp)"
   ]
  },
  {
   "cell_type": "code",
   "execution_count": 33,
   "id": "efe2ff12",
   "metadata": {},
   "outputs": [],
   "source": [
    "# 'a' Mode\n",
    "def writeData(filepath):\n",
    "    with open(filepath,'a') as f:\n",
    "        f.write(\"fbdkgdkgdkgdgdkgxfjkjghsdfjk\")\n",
    "fp = 'DataFiles\\\\two.txt'\n",
    "writeData(fp)"
   ]
  },
  {
   "cell_type": "code",
   "execution_count": 10,
   "id": "923d82d3",
   "metadata": {},
   "outputs": [],
   "source": [
    "# 'w' Mode\n",
    "def writeData(filepath):\n",
    "    with open(filepath,'w') as f:\n",
    "        f.write(\"Hello Hi Good Morning\")\n",
    "fp = 'DataFiles\\sample.txt'\n",
    "writeData(fp)"
   ]
  },
  {
   "cell_type": "code",
   "execution_count": 14,
   "id": "d7d74d0b",
   "metadata": {},
   "outputs": [],
   "source": [
    "# 'a' Mode\n",
    "def writeData(filepath):\n",
    "    with open(filepath,'a') as f:\n",
    "        f.write(\"New Data is added\")\n",
    "fp = 'DataFiles\\\\new.txt'\n",
    "writeData(fp)"
   ]
  },
  {
   "cell_type": "code",
   "execution_count": 20,
   "id": "fbfdbb69",
   "metadata": {},
   "outputs": [],
   "source": [
    "# 'w' Mode\n",
    "def writeData(filepath):\n",
    "    with open(filepath,'w') as f:\n",
    "        f.write(\"Newfile Data is added\")\n",
    "fp = 'DataFiles\\\\newfile.txt'\n",
    "writeData(fp)"
   ]
  },
  {
   "cell_type": "code",
   "execution_count": 21,
   "id": "448b7577",
   "metadata": {},
   "outputs": [
    {
     "ename": "FileExistsError",
     "evalue": "[Errno 17] File exists: 'DataFiles\\\\dd.txt'",
     "output_type": "error",
     "traceback": [
      "\u001b[1;31m---------------------------------------------------------------------------\u001b[0m",
      "\u001b[1;31mFileExistsError\u001b[0m                           Traceback (most recent call last)",
      "Cell \u001b[1;32mIn[21], line 6\u001b[0m\n\u001b[0;32m      4\u001b[0m         f\u001b[38;5;241m.\u001b[39mwrite(\u001b[38;5;124m\"\u001b[39m\u001b[38;5;124mNewfile Data is added\u001b[39m\u001b[38;5;124m\"\u001b[39m)\n\u001b[0;32m      5\u001b[0m fp \u001b[38;5;241m=\u001b[39m \u001b[38;5;124m'\u001b[39m\u001b[38;5;124mDataFiles\u001b[39m\u001b[38;5;130;01m\\\\\u001b[39;00m\u001b[38;5;124mdd.txt\u001b[39m\u001b[38;5;124m'\u001b[39m\n\u001b[1;32m----> 6\u001b[0m writeData(fp)\n",
      "Cell \u001b[1;32mIn[21], line 3\u001b[0m, in \u001b[0;36mwriteData\u001b[1;34m(filepath)\u001b[0m\n\u001b[0;32m      2\u001b[0m \u001b[38;5;28;01mdef\u001b[39;00m \u001b[38;5;21mwriteData\u001b[39m(filepath):\n\u001b[1;32m----> 3\u001b[0m     \u001b[38;5;28;01mwith\u001b[39;00m \u001b[38;5;28mopen\u001b[39m(filepath,\u001b[38;5;124m'\u001b[39m\u001b[38;5;124mx\u001b[39m\u001b[38;5;124m'\u001b[39m) \u001b[38;5;28;01mas\u001b[39;00m f:\n\u001b[0;32m      4\u001b[0m         f\u001b[38;5;241m.\u001b[39mwrite(\u001b[38;5;124m\"\u001b[39m\u001b[38;5;124mNewfile Data is added\u001b[39m\u001b[38;5;124m\"\u001b[39m)\n",
      "File \u001b[1;32m~\\anaconda3\\Lib\\site-packages\\IPython\\core\\interactiveshell.py:284\u001b[0m, in \u001b[0;36m_modified_open\u001b[1;34m(file, *args, **kwargs)\u001b[0m\n\u001b[0;32m    277\u001b[0m \u001b[38;5;28;01mif\u001b[39;00m file \u001b[38;5;129;01min\u001b[39;00m {\u001b[38;5;241m0\u001b[39m, \u001b[38;5;241m1\u001b[39m, \u001b[38;5;241m2\u001b[39m}:\n\u001b[0;32m    278\u001b[0m     \u001b[38;5;28;01mraise\u001b[39;00m \u001b[38;5;167;01mValueError\u001b[39;00m(\n\u001b[0;32m    279\u001b[0m         \u001b[38;5;124mf\u001b[39m\u001b[38;5;124m\"\u001b[39m\u001b[38;5;124mIPython won\u001b[39m\u001b[38;5;124m'\u001b[39m\u001b[38;5;124mt let you open fd=\u001b[39m\u001b[38;5;132;01m{\u001b[39;00mfile\u001b[38;5;132;01m}\u001b[39;00m\u001b[38;5;124m by default \u001b[39m\u001b[38;5;124m\"\u001b[39m\n\u001b[0;32m    280\u001b[0m         \u001b[38;5;124m\"\u001b[39m\u001b[38;5;124mas it is likely to crash IPython. If you know what you are doing, \u001b[39m\u001b[38;5;124m\"\u001b[39m\n\u001b[0;32m    281\u001b[0m         \u001b[38;5;124m\"\u001b[39m\u001b[38;5;124myou can use builtins\u001b[39m\u001b[38;5;124m'\u001b[39m\u001b[38;5;124m open.\u001b[39m\u001b[38;5;124m\"\u001b[39m\n\u001b[0;32m    282\u001b[0m     )\n\u001b[1;32m--> 284\u001b[0m \u001b[38;5;28;01mreturn\u001b[39;00m io_open(file, \u001b[38;5;241m*\u001b[39margs, \u001b[38;5;241m*\u001b[39m\u001b[38;5;241m*\u001b[39mkwargs)\n",
      "\u001b[1;31mFileExistsError\u001b[0m: [Errno 17] File exists: 'DataFiles\\\\dd.txt'"
     ]
    }
   ],
   "source": [
    "# 'x' Mode\n",
    "def writeData(filepath):\n",
    "    with open(filepath,'x') as f:\n",
    "        f.write(\"Newfile Data is added\")\n",
    "fp = 'DataFiles\\\\dd.txt'\n",
    "writeData(fp)"
   ]
  },
  {
   "cell_type": "code",
   "execution_count": 21,
   "id": "d7f4c8fc",
   "metadata": {},
   "outputs": [
    {
     "name": "stdout",
     "output_type": "stream",
     "text": [
      "Enter mobile no6301067787\n"
     ]
    },
    {
     "data": {
      "text/plain": [
       "True"
      ]
     },
     "execution_count": 21,
     "metadata": {},
     "output_type": "execute_result"
    }
   ],
   "source": [
    "#mobileno Pattern --> ^[6-9][0-9]{9}\n",
    "import re\n",
    "def validateMobileNo(mobileno):\n",
    "    if(re.match(\"^[6-9]{1}[0-9]{9}$\",mobileno)):\n",
    "        return True\n",
    "    else:\n",
    "        return False\n",
    "\n",
    "m = input(\"Enter mobile no\")\n",
    "validateMobileNo(m)"
   ]
  },
  {
   "cell_type": "code",
   "execution_count": 1,
   "id": "57a1350f",
   "metadata": {},
   "outputs": [],
   "source": [
    "filepath = \"DataFiles\\\\contactDb.txt\""
   ]
  },
  {
   "cell_type": "code",
   "execution_count": 42,
   "id": "255d43b3",
   "metadata": {},
   "outputs": [
    {
     "name": "stdout",
     "output_type": "stream",
     "text": [
      " Enter namegopi\n",
      " Enter Mobileno8500782761\n",
      "gopi  contact saved successfully...\n"
     ]
    }
   ],
   "source": [
    "##Create a Contact application to store the contacts by using files\n",
    "#Ex: Name:mastan   mobile:1234567890\n",
    "\n",
    "def addContact():\n",
    "    with open(filepath,'a') as f:\n",
    "        name = input(\" Enter name\")\n",
    "        mobile = input(\" Enter Mobileno\")\n",
    "        if validateMobileNo(mobile):\n",
    "            if isMobileNoExist(mobile):\n",
    "                print(mobile,\" already exist..!\")\n",
    "            else:\n",
    "                contactData = name+\" \"+mobile\n",
    "                f.write(contactData)\n",
    "                f.write(\"\\n\")\n",
    "                print(name,\" contact saved successfully...\")\n",
    "        else:\n",
    "            print(\"mobileno is not valid\")\n",
    "addContact()"
   ]
  },
  {
   "cell_type": "code",
   "execution_count": 22,
   "id": "95ecd9ec",
   "metadata": {},
   "outputs": [
    {
     "name": "stdout",
     "output_type": "stream",
     "text": [
      "Enter mobileno 6301067787\n"
     ]
    },
    {
     "data": {
      "text/plain": [
       "False"
      ]
     },
     "execution_count": 22,
     "metadata": {},
     "output_type": "execute_result"
    }
   ],
   "source": [
    "def isMobileNoExist(mobileno):\n",
    "    with open(filepath,'r') as f:\n",
    "        data = f.read()\n",
    "        if mobileno in data:\n",
    "            return True\n",
    "        else:\n",
    "            return False\n",
    "        print(data)\n",
    "mn = input(\"Enter mobileno \")\n",
    "isMobileNoExist(mn)"
   ]
  },
  {
   "cell_type": "code",
   "execution_count": 14,
   "id": "c0076a97",
   "metadata": {},
   "outputs": [
    {
     "name": "stdout",
     "output_type": "stream",
     "text": [
      "Enter contact name mastan\n",
      "mastan 6301067787\n",
      "\n"
     ]
    }
   ],
   "source": [
    "#search the contact data based on name\n",
    "import re\n",
    "def searchContact(name):\n",
    "    with open(filepath,'r') as f:\n",
    "        lines = f.readlines()\n",
    "    for row in lines:\n",
    "        if row.find(name) != -1:\n",
    "            print(row)\n",
    "n = input(\"Enter contact name \")\n",
    "searchContact(n)   "
   ]
  },
  {
   "cell_type": "code",
   "execution_count": 44,
   "id": "53e2b9a7",
   "metadata": {},
   "outputs": [
    {
     "name": "stdout",
     "output_type": "stream",
     "text": [
      "Enter contact name to deletemastan\n",
      "['mastan 6301067787\\n', 'sandeep 9989794464\\n']\n",
      "['sandeep 9989794464\\n']\n"
     ]
    }
   ],
   "source": [
    "#delete the contact data based on name\n",
    "def deleteContact(name):\n",
    "    with open(filepath,'r') as f:\n",
    "        lines = f.readlines()\n",
    "        print(lines)\n",
    "        for line in lines:\n",
    "            if line.find(name) != -1:\n",
    "                lines.remove(line)\n",
    "    with open(filepath,'w') as f:\n",
    "        for rline in lines:\n",
    "            f.write(rline)\n",
    "        print(lines)\n",
    "            \n",
    "n = input(\"Enter contact name to delete\")\n",
    "deleteContact(n)"
   ]
  },
  {
   "cell_type": "code",
   "execution_count": null,
   "id": "5279b58f",
   "metadata": {},
   "outputs": [],
   "source": [
    "#Create an application to store student marks \n",
    "#Ex: rollno sub1-30 sub2-20 sub3-45 sub4-60 sub5-80 sub6-85\n",
    "#rollno is uniq\n",
    "#create function to store multiple students marks data (Ex no of students 5 rollno1 ... )\n",
    "#create a function to print result of a student by using rollno\n",
    "#create a function to delete student data by using rollno"
   ]
  },
  {
   "cell_type": "code",
   "execution_count": null,
   "id": "998ac419",
   "metadata": {},
   "outputs": [],
   "source": []
  }
 ],
 "metadata": {
  "kernelspec": {
   "display_name": "Python 3 (ipykernel)",
   "language": "python",
   "name": "python3"
  },
  "language_info": {
   "codemirror_mode": {
    "name": "ipython",
    "version": 3
   },
   "file_extension": ".py",
   "mimetype": "text/x-python",
   "name": "python",
   "nbconvert_exporter": "python",
   "pygments_lexer": "ipython3",
   "version": "3.11.4"
  }
 },
 "nbformat": 4,
 "nbformat_minor": 5
}
