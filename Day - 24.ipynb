{
 "cells": [
  {
   "cell_type": "markdown",
   "id": "503d4c79",
   "metadata": {},
   "source": [
    "### CSV file Handling\n",
    "### Json File Handling"
   ]
  },
  {
   "cell_type": "code",
   "execution_count": 1,
   "id": "906c5953",
   "metadata": {},
   "outputs": [],
   "source": [
    "#CSV file --> Comma seperated values "
   ]
  },
  {
   "cell_type": "code",
   "execution_count": 1,
   "id": "4dd7ba20",
   "metadata": {},
   "outputs": [],
   "source": [
    "filepath = \"DataFiles/industry.csv\""
   ]
  },
  {
   "cell_type": "code",
   "execution_count": 15,
   "id": "7df1d9d1",
   "metadata": {},
   "outputs": [
    {
     "name": "stdout",
     "output_type": "stream",
     "text": [
      "<_csv.reader object at 0x000001807F5038E0>\n",
      "['Industry', ['Accounting/Finance'], ['Advertising/Public Relations'], ['Aerospace/Aviation'], ['Arts/Entertainment/Publishing'], ['Automotive'], ['Banking/Mortgage'], ['Business Development'], ['Business Opportunity'], ['Clerical/Administrative'], ['Construction/Facilities'], ['Consumer Goods'], ['Customer Service'], ['Education/Training'], ['Energy/Utilities'], ['Engineering'], ['Government/Military'], ['Green'], ['Healthcare'], ['Hospitality/Travel'], ['Human Resources'], ['Installation/Maintenance'], ['Insurance'], ['Internet'], ['Job Search Aids'], ['Law Enforcement/Security'], ['Legal'], ['Management/Executive'], ['Manufacturing/Operations'], ['Marketing'], ['Non-Profit/Volunteer'], ['Pharmaceutical/Biotech'], ['Professional Services'], ['QA/Quality Control'], ['Real Estate'], ['Restaurant/Food Service'], ['Retail'], ['Sales'], ['Science/Research'], ['Skilled Labor'], ['Technology'], ['Telecommunications'], ['Transportation/Logistics'], ['Other']]\n"
     ]
    }
   ],
   "source": [
    "import csv\n",
    "li = []\n",
    "def readCsvFile():\n",
    "    with open(filepath,'r') as f:\n",
    "        data = csv.reader(f)\n",
    "        li = next(data)\n",
    "        for i in data:\n",
    "            li.append(i)\n",
    "        print(data)\n",
    "        print(li)\n",
    "readCsvFile()"
   ]
  },
  {
   "cell_type": "code",
   "execution_count": 2,
   "id": "2c5c3b26",
   "metadata": {},
   "outputs": [
    {
     "ename": "NameError",
     "evalue": "name 'li' is not defined",
     "output_type": "error",
     "traceback": [
      "\u001b[1;31m---------------------------------------------------------------------------\u001b[0m",
      "\u001b[1;31mNameError\u001b[0m                                 Traceback (most recent call last)",
      "Cell \u001b[1;32mIn[2], line 10\u001b[0m\n\u001b[0;32m      7\u001b[0m             li\u001b[38;5;241m.\u001b[39mappend(i)\n\u001b[0;32m      8\u001b[0m         \u001b[38;5;28mprint\u001b[39m(data)\n\u001b[1;32m---> 10\u001b[0m \u001b[38;5;28;01mfor\u001b[39;00m d \u001b[38;5;129;01min\u001b[39;00m li:\n\u001b[0;32m     11\u001b[0m     \u001b[38;5;28mprint\u001b[39m(d)\n\u001b[0;32m     12\u001b[0m readCsvFile()\n",
      "\u001b[1;31mNameError\u001b[0m: name 'li' is not defined"
     ]
    }
   ],
   "source": [
    "import csv\n",
    "def readCsvFile():\n",
    "    with open(filepath,mode = 'r') as f:\n",
    "        data = csv.DictReader(f)\n",
    "        li = []\n",
    "        for i in data:\n",
    "            li.append(i)\n",
    "        print(data)\n",
    "\n",
    "for d in li:\n",
    "    print(d)\n",
    "readCsvFile()"
   ]
  },
  {
   "cell_type": "code",
   "execution_count": 5,
   "id": "b998bf2f",
   "metadata": {},
   "outputs": [],
   "source": [
    "import csv\n",
    "fields = ['Name', 'Branch', 'Year', 'CGPA']\n",
    "# data rows of csv file\n",
    "rows = [['Nikhil', 'COE', '2', '9.0'],\n",
    "        ['Sanchit', 'COE', '2', '9.1'],\n",
    "        ['Aditya', 'IT', '2', '9.3'],\n",
    "        ['Sagar', 'SE', '1', '9.5'],\n",
    "        ['Prateek', 'MCE', '3', '7.8'],\n",
    "        ['Sahil', 'EP', '2', '9.1']]\n",
    "\n",
    "def writeDataIntoCsv():\n",
    "    with open(filepath,'w') as f:\n",
    "        csvW = csv.writer(f)\n",
    "        csvW.writerow(fields)\n",
    "        csvW.writerows(rows)\n",
    "writeDataIntoCsv()"
   ]
  },
  {
   "cell_type": "code",
   "execution_count": 5,
   "id": "09e192c9",
   "metadata": {},
   "outputs": [
    {
     "name": "stdout",
     "output_type": "stream",
     "text": [
      "[{'Name': 'Nikhil', 'Branch': 'COE', 'Year': '2', 'CGPA': '9.0'}, {'Name': 'Sanchit', 'Branch': 'COE', 'Year': '2', 'CGPA': '9.1'}, {'Name': 'Aditya', 'Branch': 'IT', 'Year': '2', 'CGPA': '9.3'}, {'Name': 'Sagar', 'Branch': 'SE', 'Year': '1', 'CGPA': '9.5'}, {'Name': 'Prateek', 'Branch': 'MCE', 'Year': '3', 'CGPA': '7.8'}, {'Name': 'Sahil', 'Branch': 'EP', 'Year': '2', 'CGPA': '9.1'}]\n"
     ]
    }
   ],
   "source": [
    "import csv\n",
    "with open(filepath,mode = 'r') as f:\n",
    "    data = csv.DictReader(f)\n",
    "    li = []\n",
    "    for i in data:\n",
    "        li.append(i)\n",
    "print(li)"
   ]
  },
  {
   "cell_type": "code",
   "execution_count": 6,
   "id": "b0552323",
   "metadata": {},
   "outputs": [],
   "source": [
    "import pandas as pd"
   ]
  },
  {
   "cell_type": "code",
   "execution_count": 8,
   "id": "c1cf73bc",
   "metadata": {},
   "outputs": [],
   "source": [
    "df = pd.read_csv(filepath)"
   ]
  },
  {
   "cell_type": "code",
   "execution_count": 9,
   "id": "c10e2b11",
   "metadata": {},
   "outputs": [
    {
     "data": {
      "text/html": [
       "<div>\n",
       "<style scoped>\n",
       "    .dataframe tbody tr th:only-of-type {\n",
       "        vertical-align: middle;\n",
       "    }\n",
       "\n",
       "    .dataframe tbody tr th {\n",
       "        vertical-align: top;\n",
       "    }\n",
       "\n",
       "    .dataframe thead th {\n",
       "        text-align: right;\n",
       "    }\n",
       "</style>\n",
       "<table border=\"1\" class=\"dataframe\">\n",
       "  <thead>\n",
       "    <tr style=\"text-align: right;\">\n",
       "      <th></th>\n",
       "      <th>Name</th>\n",
       "      <th>Branch</th>\n",
       "      <th>Year</th>\n",
       "      <th>CGPA</th>\n",
       "    </tr>\n",
       "  </thead>\n",
       "  <tbody>\n",
       "    <tr>\n",
       "      <th>0</th>\n",
       "      <td>Nikhil</td>\n",
       "      <td>COE</td>\n",
       "      <td>2</td>\n",
       "      <td>9.0</td>\n",
       "    </tr>\n",
       "    <tr>\n",
       "      <th>1</th>\n",
       "      <td>Sanchit</td>\n",
       "      <td>COE</td>\n",
       "      <td>2</td>\n",
       "      <td>9.1</td>\n",
       "    </tr>\n",
       "    <tr>\n",
       "      <th>2</th>\n",
       "      <td>Aditya</td>\n",
       "      <td>IT</td>\n",
       "      <td>2</td>\n",
       "      <td>9.3</td>\n",
       "    </tr>\n",
       "    <tr>\n",
       "      <th>3</th>\n",
       "      <td>Sagar</td>\n",
       "      <td>SE</td>\n",
       "      <td>1</td>\n",
       "      <td>9.5</td>\n",
       "    </tr>\n",
       "    <tr>\n",
       "      <th>4</th>\n",
       "      <td>Prateek</td>\n",
       "      <td>MCE</td>\n",
       "      <td>3</td>\n",
       "      <td>7.8</td>\n",
       "    </tr>\n",
       "    <tr>\n",
       "      <th>5</th>\n",
       "      <td>Sahil</td>\n",
       "      <td>EP</td>\n",
       "      <td>2</td>\n",
       "      <td>9.1</td>\n",
       "    </tr>\n",
       "  </tbody>\n",
       "</table>\n",
       "</div>"
      ],
      "text/plain": [
       "      Name Branch  Year  CGPA\n",
       "0   Nikhil    COE     2   9.0\n",
       "1  Sanchit    COE     2   9.1\n",
       "2   Aditya     IT     2   9.3\n",
       "3    Sagar     SE     1   9.5\n",
       "4  Prateek    MCE     3   7.8\n",
       "5    Sahil     EP     2   9.1"
      ]
     },
     "execution_count": 9,
     "metadata": {},
     "output_type": "execute_result"
    }
   ],
   "source": [
    "df"
   ]
  },
  {
   "cell_type": "code",
   "execution_count": 11,
   "id": "092f6d81",
   "metadata": {},
   "outputs": [
    {
     "data": {
      "text/html": [
       "<div>\n",
       "<style scoped>\n",
       "    .dataframe tbody tr th:only-of-type {\n",
       "        vertical-align: middle;\n",
       "    }\n",
       "\n",
       "    .dataframe tbody tr th {\n",
       "        vertical-align: top;\n",
       "    }\n",
       "\n",
       "    .dataframe thead th {\n",
       "        text-align: right;\n",
       "    }\n",
       "</style>\n",
       "<table border=\"1\" class=\"dataframe\">\n",
       "  <thead>\n",
       "    <tr style=\"text-align: right;\">\n",
       "      <th></th>\n",
       "      <th>Name</th>\n",
       "      <th>Branch</th>\n",
       "      <th>Year</th>\n",
       "      <th>CGPA</th>\n",
       "    </tr>\n",
       "  </thead>\n",
       "  <tbody>\n",
       "    <tr>\n",
       "      <th>0</th>\n",
       "      <td>Nikhil</td>\n",
       "      <td>COE</td>\n",
       "      <td>2</td>\n",
       "      <td>9.0</td>\n",
       "    </tr>\n",
       "    <tr>\n",
       "      <th>1</th>\n",
       "      <td>Sanchit</td>\n",
       "      <td>COE</td>\n",
       "      <td>2</td>\n",
       "      <td>9.1</td>\n",
       "    </tr>\n",
       "    <tr>\n",
       "      <th>2</th>\n",
       "      <td>Aditya</td>\n",
       "      <td>IT</td>\n",
       "      <td>2</td>\n",
       "      <td>9.3</td>\n",
       "    </tr>\n",
       "    <tr>\n",
       "      <th>3</th>\n",
       "      <td>Sagar</td>\n",
       "      <td>SE</td>\n",
       "      <td>1</td>\n",
       "      <td>9.5</td>\n",
       "    </tr>\n",
       "    <tr>\n",
       "      <th>4</th>\n",
       "      <td>Prateek</td>\n",
       "      <td>MCE</td>\n",
       "      <td>3</td>\n",
       "      <td>7.8</td>\n",
       "    </tr>\n",
       "  </tbody>\n",
       "</table>\n",
       "</div>"
      ],
      "text/plain": [
       "      Name Branch  Year  CGPA\n",
       "0   Nikhil    COE     2   9.0\n",
       "1  Sanchit    COE     2   9.1\n",
       "2   Aditya     IT     2   9.3\n",
       "3    Sagar     SE     1   9.5\n",
       "4  Prateek    MCE     3   7.8"
      ]
     },
     "execution_count": 11,
     "metadata": {},
     "output_type": "execute_result"
    }
   ],
   "source": [
    "df.head()"
   ]
  },
  {
   "cell_type": "code",
   "execution_count": 12,
   "id": "5b534452",
   "metadata": {},
   "outputs": [
    {
     "data": {
      "text/html": [
       "<div>\n",
       "<style scoped>\n",
       "    .dataframe tbody tr th:only-of-type {\n",
       "        vertical-align: middle;\n",
       "    }\n",
       "\n",
       "    .dataframe tbody tr th {\n",
       "        vertical-align: top;\n",
       "    }\n",
       "\n",
       "    .dataframe thead th {\n",
       "        text-align: right;\n",
       "    }\n",
       "</style>\n",
       "<table border=\"1\" class=\"dataframe\">\n",
       "  <thead>\n",
       "    <tr style=\"text-align: right;\">\n",
       "      <th></th>\n",
       "      <th>Name</th>\n",
       "      <th>Branch</th>\n",
       "      <th>Year</th>\n",
       "      <th>CGPA</th>\n",
       "    </tr>\n",
       "  </thead>\n",
       "  <tbody>\n",
       "    <tr>\n",
       "      <th>1</th>\n",
       "      <td>Sanchit</td>\n",
       "      <td>COE</td>\n",
       "      <td>2</td>\n",
       "      <td>9.1</td>\n",
       "    </tr>\n",
       "    <tr>\n",
       "      <th>2</th>\n",
       "      <td>Aditya</td>\n",
       "      <td>IT</td>\n",
       "      <td>2</td>\n",
       "      <td>9.3</td>\n",
       "    </tr>\n",
       "    <tr>\n",
       "      <th>3</th>\n",
       "      <td>Sagar</td>\n",
       "      <td>SE</td>\n",
       "      <td>1</td>\n",
       "      <td>9.5</td>\n",
       "    </tr>\n",
       "    <tr>\n",
       "      <th>4</th>\n",
       "      <td>Prateek</td>\n",
       "      <td>MCE</td>\n",
       "      <td>3</td>\n",
       "      <td>7.8</td>\n",
       "    </tr>\n",
       "    <tr>\n",
       "      <th>5</th>\n",
       "      <td>Sahil</td>\n",
       "      <td>EP</td>\n",
       "      <td>2</td>\n",
       "      <td>9.1</td>\n",
       "    </tr>\n",
       "  </tbody>\n",
       "</table>\n",
       "</div>"
      ],
      "text/plain": [
       "      Name Branch  Year  CGPA\n",
       "1  Sanchit    COE     2   9.1\n",
       "2   Aditya     IT     2   9.3\n",
       "3    Sagar     SE     1   9.5\n",
       "4  Prateek    MCE     3   7.8\n",
       "5    Sahil     EP     2   9.1"
      ]
     },
     "execution_count": 12,
     "metadata": {},
     "output_type": "execute_result"
    }
   ],
   "source": [
    "df.tail()"
   ]
  },
  {
   "cell_type": "code",
   "execution_count": 17,
   "id": "f266e275",
   "metadata": {},
   "outputs": [
    {
     "data": {
      "text/html": [
       "<div>\n",
       "<style scoped>\n",
       "    .dataframe tbody tr th:only-of-type {\n",
       "        vertical-align: middle;\n",
       "    }\n",
       "\n",
       "    .dataframe tbody tr th {\n",
       "        vertical-align: top;\n",
       "    }\n",
       "\n",
       "    .dataframe thead th {\n",
       "        text-align: right;\n",
       "    }\n",
       "</style>\n",
       "<table border=\"1\" class=\"dataframe\">\n",
       "  <thead>\n",
       "    <tr style=\"text-align: right;\">\n",
       "      <th></th>\n",
       "      <th>Name</th>\n",
       "      <th>Branch</th>\n",
       "      <th>Year</th>\n",
       "      <th>CGPA</th>\n",
       "    </tr>\n",
       "  </thead>\n",
       "  <tbody>\n",
       "    <tr>\n",
       "      <th>0</th>\n",
       "      <td>Nikhil</td>\n",
       "      <td>COE</td>\n",
       "      <td>2</td>\n",
       "      <td>9.0</td>\n",
       "    </tr>\n",
       "    <tr>\n",
       "      <th>1</th>\n",
       "      <td>Sanchit</td>\n",
       "      <td>COE</td>\n",
       "      <td>2</td>\n",
       "      <td>9.1</td>\n",
       "    </tr>\n",
       "    <tr>\n",
       "      <th>2</th>\n",
       "      <td>Aditya</td>\n",
       "      <td>IT</td>\n",
       "      <td>2</td>\n",
       "      <td>9.3</td>\n",
       "    </tr>\n",
       "  </tbody>\n",
       "</table>\n",
       "</div>"
      ],
      "text/plain": [
       "      Name Branch  Year  CGPA\n",
       "0   Nikhil    COE     2   9.0\n",
       "1  Sanchit    COE     2   9.1\n",
       "2   Aditya     IT     2   9.3"
      ]
     },
     "execution_count": 17,
     "metadata": {},
     "output_type": "execute_result"
    }
   ],
   "source": [
    "df.head(3)"
   ]
  },
  {
   "cell_type": "code",
   "execution_count": 18,
   "id": "ffef6604",
   "metadata": {},
   "outputs": [
    {
     "data": {
      "text/html": [
       "<div>\n",
       "<style scoped>\n",
       "    .dataframe tbody tr th:only-of-type {\n",
       "        vertical-align: middle;\n",
       "    }\n",
       "\n",
       "    .dataframe tbody tr th {\n",
       "        vertical-align: top;\n",
       "    }\n",
       "\n",
       "    .dataframe thead th {\n",
       "        text-align: right;\n",
       "    }\n",
       "</style>\n",
       "<table border=\"1\" class=\"dataframe\">\n",
       "  <thead>\n",
       "    <tr style=\"text-align: right;\">\n",
       "      <th></th>\n",
       "      <th>Name</th>\n",
       "      <th>Branch</th>\n",
       "      <th>Year</th>\n",
       "      <th>CGPA</th>\n",
       "    </tr>\n",
       "  </thead>\n",
       "  <tbody>\n",
       "    <tr>\n",
       "      <th>4</th>\n",
       "      <td>Prateek</td>\n",
       "      <td>MCE</td>\n",
       "      <td>3</td>\n",
       "      <td>7.8</td>\n",
       "    </tr>\n",
       "    <tr>\n",
       "      <th>5</th>\n",
       "      <td>Sahil</td>\n",
       "      <td>EP</td>\n",
       "      <td>2</td>\n",
       "      <td>9.1</td>\n",
       "    </tr>\n",
       "  </tbody>\n",
       "</table>\n",
       "</div>"
      ],
      "text/plain": [
       "      Name Branch  Year  CGPA\n",
       "4  Prateek    MCE     3   7.8\n",
       "5    Sahil     EP     2   9.1"
      ]
     },
     "execution_count": 18,
     "metadata": {},
     "output_type": "execute_result"
    }
   ],
   "source": [
    "df.tail(2)"
   ]
  },
  {
   "cell_type": "code",
   "execution_count": 19,
   "id": "90bb955f",
   "metadata": {},
   "outputs": [
    {
     "data": {
      "text/plain": [
       "RangeIndex(start=0, stop=6, step=1)"
      ]
     },
     "execution_count": 19,
     "metadata": {},
     "output_type": "execute_result"
    }
   ],
   "source": [
    "df.index"
   ]
  },
  {
   "cell_type": "code",
   "execution_count": 23,
   "id": "117329e6",
   "metadata": {},
   "outputs": [
    {
     "data": {
      "text/plain": [
       "Index(['Name', 'Branch', 'Year', 'CGPA'], dtype='object')"
      ]
     },
     "execution_count": 23,
     "metadata": {},
     "output_type": "execute_result"
    }
   ],
   "source": [
    "df.columns"
   ]
  },
  {
   "cell_type": "code",
   "execution_count": 26,
   "id": "3cac0744",
   "metadata": {},
   "outputs": [
    {
     "data": {
      "text/plain": [
       "array([['Nikhil', 'COE', 2, 9.0],\n",
       "       ['Sanchit', 'COE', 2, 9.1],\n",
       "       ['Aditya', 'IT', 2, 9.3],\n",
       "       ['Sagar', 'SE', 1, 9.5],\n",
       "       ['Prateek', 'MCE', 3, 7.8],\n",
       "       ['Sahil', 'EP', 2, 9.1]], dtype=object)"
      ]
     },
     "execution_count": 26,
     "metadata": {},
     "output_type": "execute_result"
    }
   ],
   "source": [
    "df.values"
   ]
  },
  {
   "cell_type": "code",
   "execution_count": 1,
   "id": "980b5b0b",
   "metadata": {},
   "outputs": [],
   "source": [
    "import json\n",
    "file = \"DataFiles/industry.csv\""
   ]
  },
  {
   "cell_type": "code",
   "execution_count": 5,
   "id": "4777b9a2",
   "metadata": {},
   "outputs": [
    {
     "name": "stdout",
     "output_type": "stream",
     "text": [
      "{'emp_details': [{'emp_name': 'Shubham', 'email': 'ksingh.shubh@gmail.com', 'job_profile': 'intern'}, {'emp_name': 'Gaurav', 'email': 'gaurav.singh@gmail.com', 'job_profile': 'developer'}, {'emp_name': 'Nikhil', 'email': 'nikhil@geeksforgeeks.org', 'job_profile': 'Full Time'}]}\n"
     ]
    }
   ],
   "source": [
    "with open(\"DataFiles/samplejson.json\",'r') as f:\n",
    "    data = json.load(f)\n",
    "print(data)"
   ]
  },
  {
   "cell_type": "code",
   "execution_count": null,
   "id": "cc7b2ea7",
   "metadata": {},
   "outputs": [],
   "source": []
  }
 ],
 "metadata": {
  "kernelspec": {
   "display_name": "Python 3 (ipykernel)",
   "language": "python",
   "name": "python3"
  },
  "language_info": {
   "codemirror_mode": {
    "name": "ipython",
    "version": 3
   },
   "file_extension": ".py",
   "mimetype": "text/x-python",
   "name": "python",
   "nbconvert_exporter": "python",
   "pygments_lexer": "ipython3",
   "version": "3.11.4"
  }
 },
 "nbformat": 4,
 "nbformat_minor": 5
}
