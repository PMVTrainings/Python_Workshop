{
 "cells": [
  {
   "cell_type": "code",
   "execution_count": 2,
   "id": "36638aec",
   "metadata": {},
   "outputs": [
    {
     "name": "stdout",
     "output_type": "stream",
     "text": [
      "Enter Rollno123\n",
      "Enter namemastan\n",
      "Enter mobileno1234567890\n",
      "enter emailvali@gmail.com\n"
     ]
    }
   ],
   "source": [
    "#Create a dictionary to store student details\n",
    "# Ex: d = {'rollno':'123' , 'name':'mastan','mobileno':'1234567890','emailid':'vali@gmail.com'}\n",
    "\n",
    "studentDetails = {}\n",
    "\n",
    "rollnoV = input(\"Enter Rollno\")\n",
    "nameV = input(\"Enter name\")\n",
    "mobilenoV = input(\"Enter mobileno\")\n",
    "emailV = input(\"enter email\")\n",
    "\n",
    "studentDetails['rollno'] = rollnoV\n",
    "studentDetails['name'] = nameV\n",
    "studentDetails['mobile'] = mobilenoV\n",
    "studentDetails['email'] = emailV"
   ]
  },
  {
   "cell_type": "code",
   "execution_count": 3,
   "id": "4cd70cf9",
   "metadata": {},
   "outputs": [
    {
     "data": {
      "text/plain": [
       "{'rollno': '123',\n",
       " 'name': 'mastan',\n",
       " 'mobile': '1234567890',\n",
       " 'email': 'vali@gmail.com'}"
      ]
     },
     "execution_count": 3,
     "metadata": {},
     "output_type": "execute_result"
    }
   ],
   "source": [
    "studentDetails"
   ]
  },
  {
   "cell_type": "code",
   "execution_count": 23,
   "id": "058f23da",
   "metadata": {},
   "outputs": [],
   "source": [
    "sd = {}"
   ]
  },
  {
   "cell_type": "code",
   "execution_count": 27,
   "id": "2bb49e06",
   "metadata": {},
   "outputs": [
    {
     "name": "stdout",
     "output_type": "stream",
     "text": [
      "Enter how many student details you want store 1\n",
      "Enter Rollno 125\n",
      "Enter name mobile email with space yaswanth 545654645467 yaswanth@gmail.com\n",
      "{123: ['mastan', '456879894231', 'mastan@gmail.com'], 124: ['vali', '4987144454', 'vali@gmail.com'], 125: ['yaswanth', '545654645467', 'yaswanth@gmail.com']}\n"
     ]
    }
   ],
   "source": [
    "# d = {123 :['mastan','1234567890',vali@gmail.com],124 :['mastan1','12345678901',val1i@gmail.com]}\n",
    "def studentDeatils(n):\n",
    "    for i in range(1,n+1):\n",
    "        rollno = int(input(\"Enter Rollno \"))\n",
    "        s = input(\"Enter name mobile email with space \").split()\n",
    "        sd[rollno] = s\n",
    "        print(sd)\n",
    "n = int(input(\"Enter how many student details you want store \"))\n",
    "studentDeatils(n)   "
   ]
  },
  {
   "cell_type": "code",
   "execution_count": 25,
   "id": "8356e7d7",
   "metadata": {},
   "outputs": [
    {
     "data": {
      "text/plain": [
       "['mastan', '456879894231', 'mastan@gmail.com']"
      ]
     },
     "execution_count": 25,
     "metadata": {},
     "output_type": "execute_result"
    }
   ],
   "source": [
    "sd[123]"
   ]
  },
  {
   "cell_type": "code",
   "execution_count": 26,
   "id": "bfcf1222",
   "metadata": {},
   "outputs": [
    {
     "data": {
      "text/plain": [
       "['vali', '4987144454', 'vali@gmail.com']"
      ]
     },
     "execution_count": 26,
     "metadata": {},
     "output_type": "execute_result"
    }
   ],
   "source": [
    "sd[124]"
   ]
  },
  {
   "cell_type": "code",
   "execution_count": 28,
   "id": "3dc99ad5",
   "metadata": {},
   "outputs": [
    {
     "name": "stdout",
     "output_type": "stream",
     "text": [
      "Enter rollno 125\n",
      "['yaswanth', '545654645467', 'yaswanth@gmail.com']\n"
     ]
    }
   ],
   "source": [
    "def getsDetails(rollno):\n",
    "    if rollno in sd.keys():\n",
    "        print(sd[rollno])\n",
    "    else:\n",
    "        print(\"Invalid rollno..\")\n",
    "rollno = int(input(\"Enter rollno \"))\n",
    "getsDetails(rollno)"
   ]
  },
  {
   "cell_type": "code",
   "execution_count": null,
   "id": "891fd026",
   "metadata": {},
   "outputs": [],
   "source": [
    "#create a function to delete the student details by using rollno\n",
    "#li = [10,20,10,30,80,30,10,40,55,60,80,90] write a program to find the highest frequency element\n",
    "# d = {10:3,20:1,30:2.....}"
   ]
  }
 ],
 "metadata": {
  "kernelspec": {
   "display_name": "Python 3 (ipykernel)",
   "language": "python",
   "name": "python3"
  },
  "language_info": {
   "codemirror_mode": {
    "name": "ipython",
    "version": 3
   },
   "file_extension": ".py",
   "mimetype": "text/x-python",
   "name": "python",
   "nbconvert_exporter": "python",
   "pygments_lexer": "ipython3",
   "version": "3.11.4"
  }
 },
 "nbformat": 4,
 "nbformat_minor": 5
}
