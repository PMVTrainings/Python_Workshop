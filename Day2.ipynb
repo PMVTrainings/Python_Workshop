{
 "cells": [
  {
   "cell_type": "markdown",
   "id": "1af147ff",
   "metadata": {},
   "source": [
    "## Today's Objective\n",
    "1.input() method\n",
    "2.operators in python"
   ]
  },
  {
   "cell_type": "code",
   "execution_count": 2,
   "id": "645d0ff4",
   "metadata": {},
   "outputs": [
    {
     "name": "stdout",
     "output_type": "stream",
     "text": [
      "58\n"
     ]
    }
   ],
   "source": [
    "#If you want to read the values from the user then we can use input() method\n",
    "a = input()"
   ]
  },
  {
   "cell_type": "code",
   "execution_count": 3,
   "id": "accaede8",
   "metadata": {},
   "outputs": [
    {
     "data": {
      "text/plain": [
       "str"
      ]
     },
     "execution_count": 3,
     "metadata": {},
     "output_type": "execute_result"
    }
   ],
   "source": [
    "type(a)"
   ]
  },
  {
   "cell_type": "code",
   "execution_count": 4,
   "id": "030f7a1d",
   "metadata": {},
   "outputs": [
    {
     "name": "stdout",
     "output_type": "stream",
     "text": [
      "Welcome to python workshop\n"
     ]
    }
   ],
   "source": [
    "b = input()"
   ]
  },
  {
   "cell_type": "code",
   "execution_count": 5,
   "id": "075e17cf",
   "metadata": {},
   "outputs": [
    {
     "data": {
      "text/plain": [
       "str"
      ]
     },
     "execution_count": 5,
     "metadata": {},
     "output_type": "execute_result"
    }
   ],
   "source": [
    "type(b)"
   ]
  },
  {
   "cell_type": "code",
   "execution_count": 6,
   "id": "c952ade1",
   "metadata": {},
   "outputs": [
    {
     "name": "stdout",
     "output_type": "stream",
     "text": [
      "66.254\n"
     ]
    }
   ],
   "source": [
    "c = input()"
   ]
  },
  {
   "cell_type": "code",
   "execution_count": 7,
   "id": "29a775c2",
   "metadata": {},
   "outputs": [
    {
     "data": {
      "text/plain": [
       "str"
      ]
     },
     "execution_count": 7,
     "metadata": {},
     "output_type": "execute_result"
    }
   ],
   "source": [
    "type(c)"
   ]
  },
  {
   "cell_type": "markdown",
   "id": "66e285e6",
   "metadata": {},
   "source": [
    "### Operators in python\n",
    "- What is the use of operators\n",
    "- Arthematic operators(+,-,*,/,%,**,//)\n",
    "- Assignment operators(=,+=,-=,*=,/=,**=)\n",
    "- Comparision opeartors(<,<=,>,>=,!=,==)\n",
    "- Logical operators(and,or,not)\n",
    "- Identity operators(is, is not)\n",
    "- Membership operators(in,not in)\n",
    "- Bitwise operators(&,|,^,~,<<,>>)"
   ]
  },
  {
   "cell_type": "code",
   "execution_count": 15,
   "id": "4e0d9e13",
   "metadata": {},
   "outputs": [
    {
     "name": "stdout",
     "output_type": "stream",
     "text": [
      "15\n",
      "5\n",
      "50\n",
      "2.0\n",
      "1000\n",
      "2\n"
     ]
    }
   ],
   "source": [
    "#Arthematic operators(+,-,*,/,%,**,//)\n",
    "a = 10\n",
    "b = 5\n",
    "print(a+b)\n",
    "print(a-b)\n",
    "print(a*b)\n",
    "print(a/b)\n",
    "print(a**3)\n",
    "print(a//b)"
   ]
  },
  {
   "cell_type": "code",
   "execution_count": 26,
   "id": "0ec015f9",
   "metadata": {},
   "outputs": [
    {
     "name": "stdout",
     "output_type": "stream",
     "text": [
      "2\n"
     ]
    }
   ],
   "source": [
    "#Assignment operators(=,+=,-=,*=,/=,**=)\n",
    "a = 5\n",
    "b = 2\n",
    "a+=1# a = a+1\n",
    "a-=1# a = a-1\n",
    "a*=2# a = a * 2\n",
    "a/=2#a = a / 2\n",
    "a**=2# a = a**2\n",
    "a = b\n",
    "print(a)"
   ]
  },
  {
   "cell_type": "code",
   "execution_count": 37,
   "id": "f0377e54",
   "metadata": {},
   "outputs": [
    {
     "name": "stdout",
     "output_type": "stream",
     "text": [
      "False\n",
      "False\n",
      "True\n",
      "True\n",
      "False\n",
      "True\n"
     ]
    }
   ],
   "source": [
    "#Comparision Operators(<,<=,>,>=,!=,==)\n",
    "a = 10 \n",
    "b = 10\n",
    "print(a<b)\n",
    "print(a>b)\n",
    "print(a<=b)\n",
    "print(a>=b)\n",
    "print(a!=b)\n",
    "print(a==b)"
   ]
  },
  {
   "cell_type": "code",
   "execution_count": 38,
   "id": "08de9ae2",
   "metadata": {},
   "outputs": [
    {
     "data": {
      "text/plain": [
       "140724215059528"
      ]
     },
     "execution_count": 38,
     "metadata": {},
     "output_type": "execute_result"
    }
   ],
   "source": [
    "#If you want to know the address of the variables we can use id() method\n",
    "id(a)"
   ]
  },
  {
   "cell_type": "code",
   "execution_count": 39,
   "id": "847aa201",
   "metadata": {},
   "outputs": [
    {
     "data": {
      "text/plain": [
       "140724215059528"
      ]
     },
     "execution_count": 39,
     "metadata": {},
     "output_type": "execute_result"
    }
   ],
   "source": [
    "id(b)"
   ]
  },
  {
   "cell_type": "code",
   "execution_count": null,
   "id": "23daa16f",
   "metadata": {},
   "outputs": [],
   "source": []
  }
 ],
 "metadata": {
  "kernelspec": {
   "display_name": "Python 3 (ipykernel)",
   "language": "python",
   "name": "python3"
  },
  "language_info": {
   "codemirror_mode": {
    "name": "ipython",
    "version": 3
   },
   "file_extension": ".py",
   "mimetype": "text/x-python",
   "name": "python",
   "nbconvert_exporter": "python",
   "pygments_lexer": "ipython3",
   "version": "3.11.4"
  }
 },
 "nbformat": 4,
 "nbformat_minor": 5
}
