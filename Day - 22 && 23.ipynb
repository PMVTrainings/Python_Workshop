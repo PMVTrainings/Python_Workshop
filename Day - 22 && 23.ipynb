{
 "cells": [
  {
   "cell_type": "markdown",
   "id": "c72e6412",
   "metadata": {},
   "source": [
    "### Polymorphism "
   ]
  },
  {
   "cell_type": "code",
   "execution_count": 1,
   "id": "002e8488",
   "metadata": {},
   "outputs": [],
   "source": [
    "#What is Polymorphism: \n",
    "#The word polymorphism means having many forms. In programming, polymorphism means the same function name (but different signatures) being used for different types.\n",
    "#     The key difference is the data types and number of arguments used in function."
   ]
  },
  {
   "cell_type": "code",
   "execution_count": 2,
   "id": "9ec14ce5",
   "metadata": {},
   "outputs": [
    {
     "name": "stdout",
     "output_type": "stream",
     "text": [
      "5\n",
      "3\n"
     ]
    }
   ],
   "source": [
    "# Python program to demonstrate in-built Polymorphism\n",
    "# morphic functions\n",
    "\n",
    "# len() being used for a string\n",
    "print(len(\"geeks\"))\n",
    "\n",
    "# len() being used for a list\n",
    "print(len([10, 20, 30]))\n"
   ]
  },
  {
   "cell_type": "code",
   "execution_count": 3,
   "id": "dda94d7c",
   "metadata": {},
   "outputs": [
    {
     "name": "stdout",
     "output_type": "stream",
     "text": [
      "5\n",
      "12\n"
     ]
    }
   ],
   "source": [
    "#Polymorphism in user defined functions or methods\n",
    "def add(a,b,c = 0):\n",
    "    return a+b+c\n",
    "\n",
    "print(add(2,3))\n",
    "print(add(4,5,3))"
   ]
  },
  {
   "cell_type": "code",
   "execution_count": 4,
   "id": "41a1daa2",
   "metadata": {},
   "outputs": [
    {
     "name": "stdout",
     "output_type": "stream",
     "text": [
      "New Delhi is the capital of India.\n",
      "Hindi is the most widely spoken language of India.\n",
      "India is a developing country.\n",
      "Washington, D.C. is the capital of USA.\n",
      "English is the primary language of USA.\n",
      "USA is a developed country.\n"
     ]
    }
   ],
   "source": [
    "#Polymorphism with class methods: \n",
    "class India():\n",
    "    def capital(self):\n",
    "        print(\"New Delhi is the capital of India.\")\n",
    "\n",
    "    def language(self):\n",
    "        print(\"Hindi is the most widely spoken language of India.\")\n",
    "\n",
    "    def type(self):\n",
    "        print(\"India is a developing country.\")\n",
    "\n",
    "class USA():\n",
    "    def capital(self):\n",
    "        print(\"Washington, D.C. is the capital of USA.\")\n",
    "\n",
    "    def language(self):\n",
    "        print(\"English is the primary language of USA.\")\n",
    "\n",
    "    def type(self):\n",
    "        print(\"USA is a developed country.\")\n",
    "\n",
    "obj_ind = India()\n",
    "obj_usa = USA()\n",
    "for country in (obj_ind, obj_usa):\n",
    "    country.capital()\n",
    "    country.language()\n",
    "    country.type()\n"
   ]
  },
  {
   "cell_type": "code",
   "execution_count": 8,
   "id": "c27c5ef2",
   "metadata": {},
   "outputs": [
    {
     "name": "stdout",
     "output_type": "stream",
     "text": [
      "Sparrow constructor\n",
      "Most of the birds can fly but some cannot.\n",
      "Most of the birds can fly but some cannot.\n"
     ]
    }
   ],
   "source": [
    "#Polymorphism with Inheritance: \n",
    "class Bird():\n",
    "    def flight(self):\n",
    "        print(\"Most of the birds can fly but some cannot.\")\n",
    "class Sparrow(Bird):\n",
    "    def __init__(self):\n",
    "        print(\"Sparrow constructor\")\n",
    "\n",
    "b = Bird()\n",
    "s = Sparrow()\n",
    "b.flight()\n",
    "s.flight()"
   ]
  },
  {
   "cell_type": "markdown",
   "id": "77da2146",
   "metadata": {},
   "source": [
    "### Encapsulation in Python"
   ]
  },
  {
   "cell_type": "code",
   "execution_count": 3,
   "id": "7d05c296",
   "metadata": {},
   "outputs": [
    {
     "name": "stdout",
     "output_type": "stream",
     "text": [
      "aaaaa_GeeksforGeeks\n"
     ]
    },
    {
     "ename": "AttributeError",
     "evalue": "'Base' object has no attribute 'c'",
     "output_type": "error",
     "traceback": [
      "\u001b[1;31m---------------------------------------------------------------------------\u001b[0m",
      "\u001b[1;31mAttributeError\u001b[0m                            Traceback (most recent call last)",
      "Cell \u001b[1;32mIn[3], line 26\u001b[0m\n\u001b[0;32m     24\u001b[0m obj1 \u001b[38;5;241m=\u001b[39m Base()\n\u001b[0;32m     25\u001b[0m \u001b[38;5;28mprint\u001b[39m(obj1\u001b[38;5;241m.\u001b[39ma)\n\u001b[1;32m---> 26\u001b[0m \u001b[38;5;28mprint\u001b[39m(obj1\u001b[38;5;241m.\u001b[39mc)\n\u001b[0;32m     28\u001b[0m obj2 \u001b[38;5;241m=\u001b[39m Derived()\n\u001b[0;32m     29\u001b[0m \u001b[38;5;28mprint\u001b[39m(obj2\u001b[38;5;241m.\u001b[39ma)\n",
      "\u001b[1;31mAttributeError\u001b[0m: 'Base' object has no attribute 'c'"
     ]
    }
   ],
   "source": [
    "# Python program to\n",
    "# demonstrate private members\n",
    "\n",
    "# Creating a Base class\n",
    "\n",
    "\n",
    "class Base:\n",
    "    def __init__(self):\n",
    "        self.a = \"aaaaa_GeeksforGeeks\"\n",
    "        self.__c = \"ccccc_GeeksforGeeks\"\n",
    "\n",
    "# Creating a derived class\n",
    "class Derived(Base):\n",
    "    def __init__(self):\n",
    "\n",
    "        # Calling constructor of\n",
    "        # Base class\n",
    "        Base.__init__(self)\n",
    "        print(\"Calling private member of base class: \")\n",
    "        print(self.__c)\n",
    "\n",
    "\n",
    "# Driver code\n",
    "obj1 = Base()\n",
    "print(obj1.a)\n",
    "print(obj1.c)\n",
    "\n",
    "obj2 = Derived()\n",
    "print(obj2.a)\n",
    "print(obj2.c)\n",
    "\n",
    "# Uncommenting print(obj1.c) will\n",
    "# raise an AttributeError\n",
    "\n",
    "# Uncommenting obj2 = Derived() will\n",
    "# also raise an AttributeError as\n",
    "# private member of base class\n",
    "# is called inside derived class"
   ]
  },
  {
   "cell_type": "code",
   "execution_count": 4,
   "id": "8159557d",
   "metadata": {},
   "outputs": [
    {
     "name": "stdout",
     "output_type": "stream",
     "text": [
      "Calling protected member of base class:  2\n",
      "Calling modified protected member outside class:  3\n",
      "Accessing protected member of obj1:  3\n",
      "Accessing protected member of obj2:  2\n"
     ]
    }
   ],
   "source": [
    "# Python program to\n",
    "# demonstrate protected members\n",
    "\n",
    "# Creating a base class\n",
    "class Base:\n",
    "    def __init__(self):\n",
    "\n",
    "        # Protected member\n",
    "        self._a = 2\n",
    "\n",
    "# Creating a derived class\n",
    "class Derived(Base):\n",
    "    def __init__(self):\n",
    "\n",
    "        # Calling constructor of\n",
    "        # Base class\n",
    "        Base.__init__(self)\n",
    "        print(\"Calling protected member of base class: \", \n",
    "              self._a)\n",
    "\n",
    "        # Modify the protected variable:\n",
    "        self._a = 3\n",
    "        print(\"Calling modified protected member outside class: \",\n",
    "              self._a)\n",
    "\n",
    "\n",
    "obj1 = Derived()\n",
    "\n",
    "obj2 = Base()\n",
    "\n",
    "# Calling protected member\n",
    "# Can be accessed but should not be done due to convention\n",
    "print(\"Accessing protected member of obj1: \", obj1._a)\n",
    "\n",
    "# Accessing the protected variable outside\n",
    "print(\"Accessing protected member of obj2: \", obj2._a)\n"
   ]
  },
  {
   "cell_type": "code",
   "execution_count": 5,
   "id": "f9da93d5",
   "metadata": {},
   "outputs": [],
   "source": [
    "#private variables declaration '__'\n",
    "#protected vbariables declaration '_'\n"
   ]
  },
  {
   "cell_type": "code",
   "execution_count": 6,
   "id": "5f9e7ccc",
   "metadata": {},
   "outputs": [],
   "source": [
    "#Encapsulation in Python is implemented using access specifiers to control access to class members:\n",
    "\n",
    "\n",
    "#Public Members: By default, attributes and methods are public and can be accessed from outside the class.\n",
    "#Protected Members: Use a single underscore (_) prefix to indicate that an attribute or method is intended for internal use within the class and its subclasses.\n",
    "#Private Members: Use double underscores (__) prefix to make an attribute or method private. \n",
    "#                           This leads to name mangling, making it more challenging to access from outside the class."
   ]
  },
  {
   "cell_type": "markdown",
   "id": "d43abafb",
   "metadata": {},
   "source": [
    "### Data Abstraction \n",
    "- A simple example of this can be a car. A car has an accelerator, clutch, and break and we all know that pressing an accelerator will increase the speed of the car and applying the brake can stop the car but we don’t know the internal mechanism of the car and how these functionalities can work this detail hiding is known as data abstraction.\n",
    "\n",
    "- Importance of Data Abstraction:\n",
    "        It enables programmers to hide complex implementation details while just showing users the most crucial data and functions. This abstraction makes it easier to design modular and well-organized code, makes it simpler to understand and maintain, promotes code reuse, and improves developer collaboration.\n",
    "\n",
    "- Data Abstraction in Python : Data abstraction in Python is a programming concept that hides complex implementation details while exposing only essential information and functionalities to users. In Python, we can achieve data abstraction by using abstract classes and abstract classes can be created using abc (abstract base class) module and abstractmethod of abc module."
   ]
  },
  {
   "cell_type": "code",
   "execution_count": 9,
   "id": "9c5d29e1",
   "metadata": {},
   "outputs": [
    {
     "name": "stdout",
     "output_type": "stream",
     "text": [
      "Brand: Maruti\n",
      "Model: Alto\n",
      "Year: 2022\n",
      "Speed up ...\n",
      "Not having this feature\n"
     ]
    }
   ],
   "source": [
    "# Import required modules\n",
    "from abc import ABC, abstractmethod\n",
    "\n",
    "# Create Abstract base class\n",
    "class Car(ABC):\n",
    "    def __init__(self, brand, model, year):\n",
    "        self.brand = brand\n",
    "        self.model = model\n",
    "        self.year = year\n",
    "    \n",
    "    # Create abstract method      \n",
    "    @abstractmethod\n",
    "    def printDetails(self):\n",
    "        pass\n",
    "  \n",
    "    # Create concrete method\n",
    "    def accelerate(self):\n",
    "        print(\"Speed up ...\")\n",
    "  \n",
    "    def break_applied(self):\n",
    "        print(\"Car stopped\")\n",
    "\n",
    "# Create a child class\n",
    "class Hatchback(Car):\n",
    "    def printDetails(self):\n",
    "        print(\"Brand:\", self.brand)\n",
    "        print(\"Model:\", self.model)\n",
    "        print(\"Year:\", self.year)\n",
    "  \n",
    "    def sunroof(self):\n",
    "        print(\"Not having this feature\")\n",
    "\n",
    "# Create a child class\n",
    "class Suv(Car):\n",
    "    def printDetails(self):\n",
    "        print(\"Brand:\", self.brand)\n",
    "        print(\"Model:\", self.model)\n",
    "        print(\"Year:\", self.year)\n",
    "  \n",
    "    def sunroof(self):\n",
    "        print(\"Available\")\n",
    "\n",
    "# Create an instance of the Hatchback class\n",
    "car1 = Hatchback(\"Maruti\", \"Alto\", \"2022\")\n",
    "\n",
    "# Call methods\n",
    "car1.printDetails()\n",
    "car1.accelerate()\n",
    "car1.sunroof()\n"
   ]
  },
  {
   "cell_type": "code",
   "execution_count": null,
   "id": "c48c8fc0",
   "metadata": {},
   "outputs": [],
   "source": []
  }
 ],
 "metadata": {
  "kernelspec": {
   "display_name": "Python 3 (ipykernel)",
   "language": "python",
   "name": "python3"
  },
  "language_info": {
   "codemirror_mode": {
    "name": "ipython",
    "version": 3
   },
   "file_extension": ".py",
   "mimetype": "text/x-python",
   "name": "python",
   "nbconvert_exporter": "python",
   "pygments_lexer": "ipython3",
   "version": "3.11.4"
  }
 },
 "nbformat": 4,
 "nbformat_minor": 5
}
