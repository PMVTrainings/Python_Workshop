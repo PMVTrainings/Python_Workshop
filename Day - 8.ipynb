{
 "cells": [
  {
   "cell_type": "markdown",
   "id": "4d1d09d7",
   "metadata": {},
   "source": [
    "### Functions(method) in Python"
   ]
  },
  {
   "cell_type": "code",
   "execution_count": 1,
   "id": "49711fa6",
   "metadata": {},
   "outputs": [],
   "source": [
    "#Function is having a block of code and we can re use it\n",
    "#If you want to re use some logic at that time we can use functions\n",
    "#Here we are having mainly two types functions:\n",
    "#                              1.Predefined Functions Ex: print(),dir(),len()\n",
    "#                              2.Userdefined Functions Ex: isPrime(),add()\n",
    "\n",
    "#Syntax: def functionName():\n",
    "#                  statements\n",
    "\n",
    "#1.with out arguments and with out return\n",
    "#2.With arguments and with out return\n",
    "#3.with out arguments and with return\n",
    "#4.with arguments and with return"
   ]
  },
  {
   "cell_type": "code",
   "execution_count": 4,
   "id": "3c029bf3",
   "metadata": {},
   "outputs": [
    {
     "name": "stdout",
     "output_type": "stream",
     "text": [
      "30\n"
     ]
    }
   ],
   "source": [
    "#1.with out arguments and with out return\n",
    "#argument(parameter),return\n",
    "def add():\n",
    "    a = 10\n",
    "    b = 20\n",
    "    print(a+b)\n",
    "add()"
   ]
  },
  {
   "cell_type": "code",
   "execution_count": 3,
   "id": "b875d644",
   "metadata": {},
   "outputs": [
    {
     "name": "stdout",
     "output_type": "stream",
     "text": [
      "30\n"
     ]
    }
   ],
   "source": [
    "add()"
   ]
  },
  {
   "cell_type": "code",
   "execution_count": 6,
   "id": "52859178",
   "metadata": {},
   "outputs": [
    {
     "name": "stdout",
     "output_type": "stream",
     "text": [
      "25\n"
     ]
    }
   ],
   "source": [
    "#2.With arguments and with out return\n",
    "def add(a,b):\n",
    "    print(a+b)\n",
    "add(5,20)"
   ]
  },
  {
   "cell_type": "code",
   "execution_count": 7,
   "id": "540b52bc",
   "metadata": {},
   "outputs": [
    {
     "data": {
      "text/plain": [
       "15"
      ]
     },
     "execution_count": 7,
     "metadata": {},
     "output_type": "execute_result"
    }
   ],
   "source": [
    "#3.with out arguments and with return\n",
    "def add():\n",
    "    a = 5\n",
    "    b = 10\n",
    "    return a+b\n",
    "add()"
   ]
  },
  {
   "cell_type": "code",
   "execution_count": 8,
   "id": "ad38b391",
   "metadata": {},
   "outputs": [
    {
     "data": {
      "text/plain": [
       "30"
      ]
     },
     "execution_count": 8,
     "metadata": {},
     "output_type": "execute_result"
    }
   ],
   "source": [
    "#4.with arguments and with return\n",
    "def add(a,b):\n",
    "    return a+b\n",
    "add(5,25)"
   ]
  },
  {
   "cell_type": "code",
   "execution_count": 9,
   "id": "bb7b12bb",
   "metadata": {},
   "outputs": [],
   "source": [
    "#Tasks\n",
    "#1.Create a function to check given string is palindrome or not\n",
    "#2.Create a function to check given number is prime or not\n",
    "#3.Create a function to check given number is even or odd\n",
    "#4.Create a function to find the factors of a given number"
   ]
  },
  {
   "cell_type": "code",
   "execution_count": 15,
   "id": "46205c12",
   "metadata": {},
   "outputs": [
    {
     "name": "stdout",
     "output_type": "stream",
     "text": [
      "847\n",
      "847  not a prime\n"
     ]
    }
   ],
   "source": [
    "#2.Create a function to check given number is prime or not\n",
    "#prime number --> If the number is having two factors then the number is a prime\n",
    "n = int(input())\n",
    "fc = 0\n",
    "for i in range(1,n+1):\n",
    "    if n%i == 0:\n",
    "        fc = fc + 1\n",
    "if fc == 2:\n",
    "    print(n,\" is prime\")\n",
    "else:\n",
    "    print(n,\" not a prime\")"
   ]
  },
  {
   "cell_type": "code",
   "execution_count": 17,
   "id": "811eb031",
   "metadata": {},
   "outputs": [
    {
     "name": "stdout",
     "output_type": "stream",
     "text": [
      "7\n"
     ]
    },
    {
     "data": {
      "text/plain": [
       "True"
      ]
     },
     "execution_count": 17,
     "metadata": {},
     "output_type": "execute_result"
    }
   ],
   "source": [
    "def isPrime(n):\n",
    "    fc = 0\n",
    "    for i in range(1,n+1):\n",
    "        if n%i == 0:\n",
    "            fc = fc + 1\n",
    "    if fc == 2:\n",
    "        return True\n",
    "    else:\n",
    "        return False\n",
    "\n",
    "n = int(input())\n",
    "isPrime(n)\n",
    "    \n",
    "    "
   ]
  },
  {
   "cell_type": "code",
   "execution_count": 18,
   "id": "53187c1a",
   "metadata": {},
   "outputs": [
    {
     "name": "stdout",
     "output_type": "stream",
     "text": [
      "2 3 5 7 11 13 17 19 23 29 31 37 41 43 47 53 59 61 67 71 73 79 83 89 97 101 103 107 109 113 127 131 137 139 149 151 157 163 167 173 179 181 191 193 197 199 211 223 227 229 233 239 241 251 257 263 269 271 277 281 283 293 307 311 313 317 331 337 347 349 353 359 367 373 379 383 389 397 401 409 419 421 431 433 439 443 449 457 461 463 467 479 487 491 499 503 509 521 523 541 547 557 563 569 571 577 587 593 599 601 607 613 617 619 631 641 643 647 653 659 661 673 677 683 691 701 709 719 727 733 739 743 751 757 761 769 773 787 797 809 811 821 823 827 829 839 853 857 859 863 877 881 883 887 907 911 919 929 937 941 947 953 967 971 977 983 991 997 "
     ]
    }
   ],
   "source": [
    "#print the 1 to 1000 in between prime numbers\n",
    "def primeNumbersInRange(lb,ub):\n",
    "    for n in range(lb,ub+1):\n",
    "        if isPrime(n):\n",
    "            print(n,end=\" \")\n",
    "primeNumbersInRange(1,1000)"
   ]
  },
  {
   "cell_type": "code",
   "execution_count": null,
   "id": "daa117eb",
   "metadata": {},
   "outputs": [],
   "source": [
    "#5.Create a Function to calculate the average of 1 to 100 numbers\n",
    "#6.Create the Function to calculate the average of given number factors\n",
    "#7.Create a Function to check given year is leap or not\n",
    "#8. Take a String which is \"problem solving using python\"\n",
    "#       1.Find the length of the String\n",
    "#       2.Change the String of lower case\n",
    "#       3.print the String in reverse order\n",
    "#       4.Print the string in without spaces\n",
    "#       5.Find how many times 's' is reapeated in the given string"
   ]
  }
 ],
 "metadata": {
  "kernelspec": {
   "display_name": "Python 3 (ipykernel)",
   "language": "python",
   "name": "python3"
  },
  "language_info": {
   "codemirror_mode": {
    "name": "ipython",
    "version": 3
   },
   "file_extension": ".py",
   "mimetype": "text/x-python",
   "name": "python",
   "nbconvert_exporter": "python",
   "pygments_lexer": "ipython3",
   "version": "3.11.4"
  }
 },
 "nbformat": 4,
 "nbformat_minor": 5
}
