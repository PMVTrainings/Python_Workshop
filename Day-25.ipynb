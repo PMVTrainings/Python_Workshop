{
 "cells": [
  {
   "cell_type": "markdown",
   "id": "fccb947b",
   "metadata": {},
   "source": [
    "### Advanced Topics\n",
    "- Decorators\n",
    "- Closures\n",
    "- Recusrion"
   ]
  },
  {
   "cell_type": "code",
   "execution_count": 1,
   "id": "071ae110",
   "metadata": {},
   "outputs": [],
   "source": [
    "#Decorators : Python Decorators are very powerfull and expressive tool in python \n",
    "#              that allows to modify the behavior of function or method. They often used to add \"wrapping\" functionality to \n",
    "#                     exitining functions in clean and readble way"
   ]
  },
  {
   "cell_type": "code",
   "execution_count": 4,
   "id": "1f3233ee",
   "metadata": {},
   "outputs": [
    {
     "name": "stdout",
     "output_type": "stream",
     "text": [
      "before function\n",
      "Hello\n",
      "after function\n"
     ]
    }
   ],
   "source": [
    "def simple_decorator(func):\n",
    "    def a():\n",
    "        print(\"before function\")\n",
    "        func()\n",
    "        print(\"after function\")\n",
    "    return a\n",
    "\n",
    "@simple_decorator\n",
    "def say_hello():\n",
    "    print(\"Hello\")\n",
    "\n",
    "say_hello()"
   ]
  },
  {
   "cell_type": "code",
   "execution_count": 5,
   "id": "85986d09",
   "metadata": {},
   "outputs": [],
   "source": [
    "#- Closures : When a nested function captures the local varibles from it enclosing scop. \n",
    "#   This allows the nested function to access these variables even after outer function has finished excuting."
   ]
  },
  {
   "cell_type": "code",
   "execution_count": 8,
   "id": "df640792",
   "metadata": {},
   "outputs": [
    {
     "name": "stdout",
     "output_type": "stream",
     "text": [
      "Hello\n"
     ]
    }
   ],
   "source": [
    "def outer_function(msg):\n",
    "    message = msg\n",
    "    \n",
    "    def inner_function():\n",
    "        print(message)\n",
    "    return inner_function\n",
    "\n",
    "c = outer_function(\"Hello\")\n",
    "c()"
   ]
  },
  {
   "cell_type": "code",
   "execution_count": 11,
   "id": "c5fd6cea",
   "metadata": {},
   "outputs": [
    {
     "name": "stdout",
     "output_type": "stream",
     "text": [
      "24\n"
     ]
    }
   ],
   "source": [
    "#Recursion in Python:\n",
    "\n",
    "def recursive_factorial(n):\n",
    "    if n==1:\n",
    "        return n\n",
    "    else:\n",
    "        return n*recursive_factorial(n-1)\n",
    "    \n",
    "n = 4\n",
    "if n<0:\n",
    "    print(\"invalid number\")\n",
    "elif n == 0:\n",
    "    print(\"Factorial of number 0 is 1\")\n",
    "else:\n",
    "    print(recursive_factorial(n) )"
   ]
  },
  {
   "cell_type": "code",
   "execution_count": 18,
   "id": "bd7e6f25",
   "metadata": {},
   "outputs": [
    {
     "name": "stdout",
     "output_type": "stream",
     "text": [
      "{'userId': 1, 'id': 1, 'title': 'sunt aut facere repellat provident occaecati excepturi optio reprehenderit', 'body': 'quia et suscipit\\nsuscipit recusandae consequuntur expedita et cum\\nreprehenderit molestiae ut ut quas totam\\nnostrum rerum est autem sunt rem eveniet architecto'}\n"
     ]
    }
   ],
   "source": [
    "#If you want to work with API's Two requests 'GET' 'POST'\n",
    "import requests\n",
    "url = \"https://jsonplaceholder.typicode.com/posts/1\"\n",
    "response = requests.get(url)\n",
    "print(response.json())"
   ]
  },
  {
   "cell_type": "code",
   "execution_count": 15,
   "id": "d226939d",
   "metadata": {},
   "outputs": [
    {
     "name": "stdout",
     "output_type": "stream",
     "text": [
      "{'userID': 1, 'title': 'Making a POST request', 'body': 'This is the data we created.', 'id': 101}\n"
     ]
    }
   ],
   "source": [
    "import requests\n",
    "\n",
    "# The API endpoint\n",
    "url = \"https://jsonplaceholder.typicode.com/posts\"\n",
    "\n",
    "# Data to be sent\n",
    "data = {\n",
    "    \"userID\": 1,\n",
    "    \"title\": \"Making a POST request\",\n",
    "    \"body\": \"This is the data we created.\"\n",
    "}\n",
    "\n",
    "# A POST request to the API\n",
    "response = requests.post(url, json=data)\n",
    "\n",
    "# Print the response\n",
    "print(response.json())\n"
   ]
  },
  {
   "cell_type": "code",
   "execution_count": 19,
   "id": "d0c3e077",
   "metadata": {},
   "outputs": [
    {
     "ename": "SyntaxError",
     "evalue": "invalid syntax (3369364627.py, line 4)",
     "output_type": "error",
     "traceback": [
      "\u001b[1;36m  Cell \u001b[1;32mIn[19], line 4\u001b[1;36m\u001b[0m\n\u001b[1;33m    Mobile Apps(Android: Java,kotlin IOS: Swift,)\u001b[0m\n\u001b[1;37m           ^\u001b[0m\n\u001b[1;31mSyntaxError\u001b[0m\u001b[1;31m:\u001b[0m invalid syntax\n"
     ]
    }
   ],
   "source": [
    "#JSON-> Java Script Object notation\n",
    "#XML\n",
    "\n",
    "Mobile Apps(Android: Java,kotlin IOS: Swift,)\n",
    "Web Apps(PHP,JAVA,Python,.Net,C#)\n",
    "         \n",
    "         \n",
    "#SQL\n",
    "#JSON\n",
    "         \n",
    "- Json object '{'\n",
    "- Json Array '['\n",
    "         "
   ]
  },
  {
   "cell_type": "code",
   "execution_count": 21,
   "id": "6b169114",
   "metadata": {},
   "outputs": [],
   "source": [
    "from tkinter import *\n",
    "\n",
    "master = Tk()\n",
    "Label(master, text='First Name').grid(row=0)\n",
    "Label(master, text='Last Name').grid(row=1)\n",
    "e1 = Entry(master)\n",
    "e2 = Entry(master)\n",
    "e1.grid(row=0, column=1)\n",
    "e2.grid(row=1, column=1)\n",
    "mainloop()"
   ]
  },
  {
   "cell_type": "code",
   "execution_count": null,
   "id": "ebb6203f",
   "metadata": {},
   "outputs": [],
   "source": []
  }
 ],
 "metadata": {
  "kernelspec": {
   "display_name": "Python 3 (ipykernel)",
   "language": "python",
   "name": "python3"
  },
  "language_info": {
   "codemirror_mode": {
    "name": "ipython",
    "version": 3
   },
   "file_extension": ".py",
   "mimetype": "text/x-python",
   "name": "python",
   "nbconvert_exporter": "python",
   "pygments_lexer": "ipython3",
   "version": "3.11.4"
  }
 },
 "nbformat": 4,
 "nbformat_minor": 5
}
