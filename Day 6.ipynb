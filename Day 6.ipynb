{
 "cells": [
  {
   "cell_type": "markdown",
   "id": "c716dbc5",
   "metadata": {},
   "source": [
    "### Day Objectives\n",
    "- while loop\n",
    "- some tasks"
   ]
  },
  {
   "cell_type": "code",
   "execution_count": 10,
   "id": "953f278d",
   "metadata": {},
   "outputs": [
    {
     "name": "stdout",
     "output_type": "stream",
     "text": [
      "Enter lb value:2\n",
      "Enter ub value:10\n",
      "e number 2 o number 3 e number 4 o number 5 e number 6 o number 7 e number 8 o number 9 e number 10 Sum of even numbers: 30\n",
      "Sum of odd numbers: 24\n"
     ]
    }
   ],
   "source": [
    "#Write a python program to print sum of even numbers and odd numbers of given range lb,ub both are inclusive.\n",
    "# e o/p : sum of even numbers : x\n",
    "#         sum of odd numbers : y\n",
    "\n",
    "lb = int(input(\"Enter lb value:\" ))\n",
    "ub = int(input(\"Enter ub value:\"))\n",
    "eSum = 0\n",
    "oSum = 0\n",
    "for i in range(lb,ub+1):\n",
    "    if i%2 == 0:\n",
    "        eSum = eSum+i\n",
    "        print(\"e number\",i,end=\" \")\n",
    "    else:\n",
    "        oSum = oSum+i\n",
    "        print(\"o number\",i,end=\" \")\n",
    "    \n",
    "print(\"Sum of even numbers:\",eSum)\n",
    "print(\"Sum of odd numbers:\",oSum)"
   ]
  },
  {
   "cell_type": "code",
   "execution_count": 12,
   "id": "56963f6a",
   "metadata": {},
   "outputs": [
    {
     "name": "stdout",
     "output_type": "stream",
     "text": [
      "Enter lb value:2\n",
      "Enter ub value:10\n",
      "Sum of Even numbers:  30\n"
     ]
    }
   ],
   "source": [
    "#sum of even numbers optimized code\n",
    "lb = int(input(\"Enter lb value:\" ))\n",
    "ub = int(input(\"Enter ub value:\"))\n",
    "eSum = 0\n",
    "oSum = 0\n",
    "for i in range(lb,ub+1,2):\n",
    "    eSum = eSum+i\n",
    "print(\"Sum of Even numbers: \",eSum)"
   ]
  },
  {
   "cell_type": "code",
   "execution_count": 15,
   "id": "f8d99636",
   "metadata": {},
   "outputs": [
    {
     "name": "stdout",
     "output_type": "stream",
     "text": [
      "Enter lb value:3\n",
      "Enter ub value:10\n",
      "Sum of odd numbers: 24\n"
     ]
    }
   ],
   "source": [
    "#sum of odd numbers optimized code\n",
    "lb = int(input(\"Enter lb value:\" ))\n",
    "ub = int(input(\"Enter ub value:\"))\n",
    "oSum = 0\n",
    "for i in range(lb,ub+1,2):\n",
    "    oSum = oSum+i\n",
    "print(\"Sum of odd numbers:\",oSum)"
   ]
  },
  {
   "cell_type": "code",
   "execution_count": 16,
   "id": "d66ac528",
   "metadata": {},
   "outputs": [
    {
     "name": "stdout",
     "output_type": "stream",
     "text": [
      "Enter lb value:2\n",
      "Enter ub value:10\n",
      "Count of Even numbers:  5\n"
     ]
    }
   ],
   "source": [
    "#write a python program to count even numbers in the given range. lb- inclusive, ub-exclusive\n",
    "#Ex:123456789 --> o/p Even numbers count = 4\n",
    "\n",
    "lb = int(input(\"Enter lb value:\" ))\n",
    "ub = int(input(\"Enter ub value:\"))\n",
    "eCount = 0\n",
    "for i in range(lb,ub+1,2):\n",
    "    eCount += 1\n",
    "print(\"Count of Even numbers: \",eCount)\n"
   ]
  },
  {
   "cell_type": "code",
   "execution_count": 33,
   "id": "00fcd58a",
   "metadata": {},
   "outputs": [
    {
     "name": "stdout",
     "output_type": "stream",
     "text": [
      "548\n",
      "3\n"
     ]
    }
   ],
   "source": [
    "#while loop\n",
    "#syntax: while condition:\n",
    "#               statements\n",
    "#               updation\n",
    "#count number of digits available in the given value\n",
    "#ex:798 ==> 3 digits\n",
    "#ex : 57687 ==> 5 digits\n",
    "n = int(input())\n",
    "count = 0\n",
    "while n!=0:\n",
    "    count += 1\n",
    "    n = n//10\n",
    "print(count)"
   ]
  },
  {
   "cell_type": "code",
   "execution_count": null,
   "id": "c34df32e",
   "metadata": {},
   "outputs": [],
   "source": [
    "#write a python program to check given number prime or not\n",
    "#Write a python program to print prime numbers in between given range\n",
    "#Write a python program to print divisible by 7 in the given range lb = 10 , ub = 500\n",
    "#write a python program to print reverse of a given number"
   ]
  }
 ],
 "metadata": {
  "kernelspec": {
   "display_name": "Python 3 (ipykernel)",
   "language": "python",
   "name": "python3"
  },
  "language_info": {
   "codemirror_mode": {
    "name": "ipython",
    "version": 3
   },
   "file_extension": ".py",
   "mimetype": "text/x-python",
   "name": "python",
   "nbconvert_exporter": "python",
   "pygments_lexer": "ipython3",
   "version": "3.11.4"
  }
 },
 "nbformat": 4,
 "nbformat_minor": 5
}
