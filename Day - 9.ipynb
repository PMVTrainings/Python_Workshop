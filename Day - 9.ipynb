{
 "cells": [
  {
   "cell_type": "code",
   "execution_count": 1,
   "id": "e56066e9",
   "metadata": {},
   "outputs": [],
   "source": [
    "#Tasks\n",
    "#1.Create a function to check given string is palindrome or not\n",
    "#2.Create a function to check given number is prime or not --> complted\n",
    "#3.Create a function to check given number is even or odd\n",
    "#4.Create a function to find the factors of a given number\n",
    "#5.Create a Function to calculate the average of 1 to 100 numbers\n",
    "#6.Create the Function to calculate the average of given number factors\n",
    "#7.Create a Function to check given year is leap or not\n",
    "#8. Take a String which is \"problem solving using python\"\n",
    "#       1.Find the length of the String\n",
    "#       2.Change the String of lower case\n",
    "#       3.print the String in reverse order\n",
    "#       4.Print the string in without spaces\n",
    "#       5.Find how many times 's' is reapeated in the given string"
   ]
  },
  {
   "cell_type": "code",
   "execution_count": 17,
   "id": "93221964",
   "metadata": {},
   "outputs": [
    {
     "name": "stdout",
     "output_type": "stream",
     "text": [
      "6\n",
      "1 2 3 6 \n",
      " average of factors of 6 =  3\n"
     ]
    }
   ],
   "source": [
    "#4.Create a function to find the factors of a given number\n",
    "#6.Create the Function to calculate the average of given number factors\n",
    "def toFindFactors(n):\n",
    "    s = 0\n",
    "    c = 0\n",
    "    for i in range(1,n+1):\n",
    "        if n%i == 0:\n",
    "            s = s + i\n",
    "            c = c + 1\n",
    "            print(i,end=\" \")\n",
    "    avg = s//c\n",
    "    print(\"\\n average of factors of %1d = %2d\" %(n,avg))\n",
    "\n",
    "            \n",
    "\n",
    "n = int(input())\n",
    "toFindFactors(n)"
   ]
  },
  {
   "cell_type": "code",
   "execution_count": 36,
   "id": "b13203d8",
   "metadata": {},
   "outputs": [
    {
     "name": "stdout",
     "output_type": "stream",
     "text": [
      "28\n",
      "PROBLEM SOLVING USING PYTHON\n",
      "problem solving using python\n",
      "nohtyp gnisu gnivlos melborp\n",
      "problemsolvingusingpython\n",
      "2\n"
     ]
    }
   ],
   "source": [
    "#8. Take a String which is \"problem solving using python\"\n",
    "#       1.Find the length of the String\n",
    "#       2.Change the String of upper case\n",
    "#       3.Change the String of lower case\n",
    "#       4.print the String in reverse order\n",
    "#       5.Print the string in without spaces\n",
    "#       6.Find how many times 's' is reapeated in the given string\n",
    "\n",
    "s = 'problem solving using python'\n",
    "#1.Find the length of the String\n",
    "print(len(s))\n",
    "#2.Change the String of upper case\n",
    "print(s.upper())\n",
    "#3.Change the String of lower case\n",
    "print(s.lower())\n",
    "#4.print the String in reverse order\n",
    "print(s[::-1])\n",
    "#5.Print the string in without spaces\n",
    "#x = s.split(\" \")\n",
    "#x\n",
    "#\"\".join(x)\n",
    "print(s.replace(\" \",\"\"))\n",
    "#6.Find how many times 's' is reapeated in the given string\n",
    "print(s.count('s'))"
   ]
  },
  {
   "cell_type": "code",
   "execution_count": null,
   "id": "273730e1",
   "metadata": {},
   "outputs": [],
   "source": []
  }
 ],
 "metadata": {
  "kernelspec": {
   "display_name": "Python 3 (ipykernel)",
   "language": "python",
   "name": "python3"
  },
  "language_info": {
   "codemirror_mode": {
    "name": "ipython",
    "version": 3
   },
   "file_extension": ".py",
   "mimetype": "text/x-python",
   "name": "python",
   "nbconvert_exporter": "python",
   "pygments_lexer": "ipython3",
   "version": "3.11.4"
  }
 },
 "nbformat": 4,
 "nbformat_minor": 5
}
